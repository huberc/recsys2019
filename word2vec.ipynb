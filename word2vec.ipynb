{
 "cells": [
  {
   "cell_type": "code",
   "execution_count": 1,
   "metadata": {},
   "outputs": [
    {
     "data": {
      "text/plain": [
       "Intitializing Scala interpreter ..."
      ]
     },
     "metadata": {},
     "output_type": "display_data"
    },
    {
     "data": {
      "text/plain": [
       "Spark Web UI available at http://DESKTOP-2NBBC4T:4040\n",
       "SparkContext available as 'sc' (version = 2.4.3, master = local[*], app id = local-1562965581914)\n",
       "SparkSession available as 'spark'\n"
      ]
     },
     "metadata": {},
     "output_type": "display_data"
    },
    {
     "data": {
      "text/plain": [
       "import org.apache.spark.rdd.RDD\r\n",
       "import org.apache.spark.ml.feature.{Word2Vec, Word2VecModel}\n"
      ]
     },
     "execution_count": 1,
     "metadata": {},
     "output_type": "execute_result"
    }
   ],
   "source": [
    "import org.apache.spark.rdd.RDD\n",
    "import org.apache.spark.ml.feature.{Word2Vec, Word2VecModel}"
   ]
  },
  {
   "cell_type": "code",
   "execution_count": 2,
   "metadata": {},
   "outputs": [
    {
     "data": {
      "text/plain": [
       "inputCol: String = text\r\n",
       "maxIter: Int = 1\r\n",
       "minCount: Int = 10\r\n",
       "numPartitions: Int = 1\r\n",
       "seed: Int = 42\r\n",
       "vectorSize: Int = 15\r\n",
       "debug: Boolean = false\n"
      ]
     },
     "execution_count": 2,
     "metadata": {},
     "output_type": "execute_result"
    }
   ],
   "source": [
    "val inputCol = \"text\"\n",
    "val maxIter = 1\n",
    "val minCount = 10\n",
    "val numPartitions = 1\n",
    "val seed = 42\n",
    "val vectorSize = 15\n",
    "\n",
    "val debug = false"
   ]
  },
  {
   "cell_type": "code",
   "execution_count": 3,
   "metadata": {},
   "outputs": [
    {
     "data": {
      "text/plain": [
       "printRDD: [T](rdd: org.apache.spark.rdd.RDD[T], n: Int)Unit\n"
      ]
     },
     "execution_count": 3,
     "metadata": {},
     "output_type": "execute_result"
    }
   ],
   "source": [
    "def printRDD[T] ( rdd:RDD[T], n:Int = 0 ) : Unit = {\n",
    "    if(n != 0) {\n",
    "    rdd.take(n).foreach(println)\n",
    "} else {\n",
    "    rdd.collect().foreach(println)}\n",
    "}"
   ]
  },
  {
   "cell_type": "code",
   "execution_count": 4,
   "metadata": {},
   "outputs": [
    {
     "data": {
      "text/plain": [
       "data: org.apache.spark.rdd.RDD[String] = data/item_metadata.csv MapPartitionsRDD[1] at textFile at <console>:27\n"
      ]
     },
     "execution_count": 4,
     "metadata": {},
     "output_type": "execute_result"
    }
   ],
   "source": [
    "var data = sc.textFile(\"data/item_metadata.csv\")"
   ]
  },
  {
   "cell_type": "code",
   "execution_count": 5,
   "metadata": {},
   "outputs": [
    {
     "name": "stdout",
     "output_type": "stream",
     "text": [
      "item_id,properties\n",
      "5101,Satellite TV|Golf Course|Airport Shuttle|Cosmetic Mirror|Safe (Hotel)|Telephone|Hotel|Sitting Area (Rooms)|Reception (24/7)|Air Conditioning|Hypoallergenic Rooms|Cable TV|Hotel Bar|Pool Table|Bathtub|Satisfactory Rating|Room Service|Luxury Hotel|Terrace (Hotel)|Television|Minigolf|Business Hotel|Shower|Cot|Gym|Hairdryer|Hypoallergenic Bedding|Accessible Parking|From 3 Stars|Good Rating|Radio|4 Star|From 4 Stars|Family Friendly|Desk|Tennis Court (Indoor)|Balcony|WiFi (Public Areas)|Openable Windows|Express Check-In / Check-Out|Restaurant|Laundry Service|Ironing Board|Tennis Court|From 2 Stars|Business Centre|Bowling|Conference Rooms|Electric Kettle|Accessible Hotel|Porter|Bike Rental|Non-Smoking Rooms|Car Park|Safe (Rooms)|Fitness|Fan|Flatscreen TV|Computer with Internet|WiFi (Rooms)|Lift|Central Heating\n",
      "5416,Satellite TV|Cosmetic Mirror|Safe (Hotel)|Telephone|Hotel|Sitting Area (Rooms)|Reception (24/7)|Wheelchair Accessible|Hypoallergenic Rooms|Hotel Bar|Bathtub|Satisfactory Rating|Luxury Hotel|Terrace (Hotel)|Very Good Rating|Television|Business Hotel|Shower|Cot|Hairdryer|From 3 Stars|Good Rating|Radio|4 Star|From 4 Stars|Family Friendly|Desk|WiFi (Public Areas)|Openable Windows|Spa (Wellness Facility)|Laundry Service|Free WiFi (Combined)|From 2 Stars|Conference Rooms|Sauna|Bike Rental|Free WiFi (Rooms)|Non-Smoking Rooms|Car Park|Flatscreen TV|Excellent Rating|Computer with Internet|Pet Friendly|WiFi (Rooms)|Free WiFi (Public Areas)|Lift\n",
      "5834,Satellite TV|Cosmetic Mirror|Safe (Hotel)|Telephone|Hotel|Reception (24/7)|Satisfactory Rating|Hiking Trail|Luxury Hotel|Terrace (Hotel)|Very Good Rating|Minigolf|Business Hotel|Shower|Cot|Hairdryer|Beach|From 3 Stars|Good Rating|Family Friendly|Desk|WiFi (Public Areas)|Openable Windows|Free WiFi (Combined)|Boat Rental|Gay-friendly|From 2 Stars|Bowling|3 Star|Free WiFi (Rooms)|Non-Smoking Rooms|Car Park|Safe (Rooms)|Flatscreen TV|Singles|Computer with Internet|WiFi (Rooms)|Free WiFi (Public Areas)|Lift|Central Heating\n",
      "5910,Satellite TV|Sailing|Cosmetic Mirror|Telephone|Hotel|Cable TV|Hotel Bar|Bathtub|Satisfactory Rating|Room Service|Luxury Hotel|Terrace (Hotel)|Television|Business Hotel|Shower|From 3 Stars|Good Rating|Radio|4 Star|From 4 Stars|Family Friendly|Tennis Court (Indoor)|WiFi (Public Areas)|Openable Windows|Restaurant|Laundry Service|Free WiFi (Combined)|Tennis Court|From 2 Stars|Solarium|Conference Rooms|Bike Rental|Non-Smoking Rooms|Car Park|Concierge|Safe (Rooms)|Computer with Internet|Pet Friendly|Free WiFi (Public Areas)|Lift|Central Heating\n",
      "6066,Satellite TV|Sailing|Diving|Cosmetic Mirror|Safe (Hotel)|Telephone|Hotel|Sitting Area (Rooms)|Reception (24/7)|Wheelchair Accessible|Hypoallergenic Rooms|Cable TV|Massage|Hotel Bar|Pool Table|Bathtub|Satisfactory Rating|Room Service|Luxury Hotel|Terrace (Hotel)|Towels|Television|Business Hotel|Shower|Steam Room|Spa Hotel|Swimming Pool (Outdoor)|Cot|Gym|Hairdryer|Beach|Hypoallergenic Bedding|Beauty Salon|Accessible Parking|From 3 Stars|Convention Hotel|Good Rating|Radio|4 Star|From 4 Stars|Table Tennis|Family Friendly|Desk|Tennis Court (Indoor)|Balcony|WiFi (Public Areas)|Surfing|Hot Stone Massage|Openable Windows|Spa (Wellness Facility)|Restaurant|Laundry Service|Ironing Board|Free WiFi (Combined)|Tennis Court|Romantic|Boat Rental|From 2 Stars|Business Centre|Solarium|Bowling|Conference Rooms|Sauna|Hammam|Accessible Hotel|Bike Rental|Free WiFi (Rooms)|Non-Smoking Rooms|Playground|Car Park|Safe (Rooms)|Fitness|Swimming Pool (Indoor)|Jacuzzi (Hotel)|Flatscreen TV|Honeymoon|Body Treatments|Computer with Internet|Pet Friendly|Volleyball|WiFi (Rooms)|Swimming Pool (Combined Filter)|Free WiFi (Public Areas)|Lift|Central Heating\n",
      "6094,Satellite TV|Sailing|Safe (Hotel)|Telephone|Hotel|Hotel Bar|Bathtub|Satisfactory Rating|Luxury Hotel|Television|Minigolf|Business Hotel|Shower|Hairdryer|Good Rating|Radio|Desk|Tennis Court (Indoor)|WiFi (Public Areas)|Horse Riding|Openable Windows|Laundry Service|Tennis Court|3 Star|Non-Smoking Rooms|Car Park|Safe (Rooms)|Computer with Internet|WiFi (Rooms)|Central Heating\n",
      "6288,Satellite TV|Airport Shuttle|Cosmetic Mirror|Safe (Hotel)|Telephone|Hotel|Sitting Area (Rooms)|Hotel Bar|Satisfactory Rating|Room Service|Hiking Trail|Luxury Hotel|Terrace (Hotel)|Very Good Rating|Television|Minigolf|Business Hotel|Shower|Cot|Hairdryer|From 3 Stars|Good Rating|Radio|Family Friendly|Desk|Tennis Court (Indoor)|WiFi (Public Areas)|Openable Windows|Express Check-In / Check-Out|Spa (Wellness Facility)|Laundry Service|Ironing Board|Free WiFi (Combined)|Tennis Court|Boat Rental|Gay-friendly|From 2 Stars|Bowling|Conference Rooms|3 Star|Sauna|Porter|Bike Rental|Free WiFi (Rooms)|Non-Smoking Rooms|Car Park|Safe (Rooms)|Computer with Internet|Pet Friendly|WiFi (Rooms)|Free WiFi (Public Areas)|Central Heating\n",
      "6358,Cosmetic Mirror|Safe (Hotel)|Telephone|Hotel|Convenience Store|Sitting Area (Rooms)|Reception (24/7)|Wheelchair Accessible|Air Conditioning|Massage|Hotel Bar|Pool Table|Bathtub|Satisfactory Rating|Hiking Trail|Luxury Hotel|Terrace (Hotel)|Very Good Rating|Television|Business Hotel|Shower|Cot|Gym|Hairdryer|From 3 Stars|Convention Hotel|Good Rating|4 Star|From 4 Stars|Deck Chairs|Family Friendly|Desk|WiFi (Public Areas)|Openable Windows|Express Check-In / Check-Out|Restaurant|Laundry Service|Ironing Board|Free WiFi (Combined)|Gay-friendly|From 2 Stars|Business Centre|Solarium|Bowling|Conference Rooms|Sauna|Electric Kettle|Accessible Hotel|Bike Rental|Self Catering|Free WiFi (Rooms)|Non-Smoking Rooms|Car Park|Safe (Rooms)|Fitness|Flatscreen TV|Computer with Internet|Pet Friendly|Fridge|WiFi (Rooms)|Free WiFi (Public Areas)|Lift|Central Heating\n",
      "6456,Satellite TV|Cosmetic Mirror|Safe (Hotel)|Telephone|Hotel|Reception (24/7)|Air Conditioning|Hypoallergenic Rooms|Cable TV|Bathtub|Satisfactory Rating|Hiking Trail|Luxury Hotel|Television|Business Hotel|Shower|Cot|Hairdryer|Hypoallergenic Bedding|From 3 Stars|Convention Hotel|Good Rating|4 Star|From 4 Stars|Family Friendly|Desk|WiFi (Public Areas)|Openable Windows|Express Check-In / Check-Out|Restaurant|Design Hotel|Laundry Service|Free WiFi (Combined)|Gay-friendly|From 2 Stars|Business Centre|Conference Rooms|Porter|Bike Rental|Free WiFi (Rooms)|Non-Smoking Rooms|Car Park|Concierge|Safe (Rooms)|Fitness|Honeymoon|Singles|Childcare|Computer with Internet|Pet Friendly|WiFi (Rooms)|Free WiFi (Public Areas)|Lift|Central Heating\n"
     ]
    }
   ],
   "source": [
    "printRDD(data, 10)"
   ]
  },
  {
   "cell_type": "code",
   "execution_count": 6,
   "metadata": {},
   "outputs": [
    {
     "data": {
      "text/plain": [
       "header: String = item_id,properties\r\n",
       "data: org.apache.spark.rdd.RDD[String] = MapPartitionsRDD[2] at filter at <console>:29\n"
      ]
     },
     "execution_count": 6,
     "metadata": {},
     "output_type": "execute_result"
    }
   ],
   "source": [
    "val header = data.first()\n",
    "data = data.filter(row => row != header)"
   ]
  },
  {
   "cell_type": "code",
   "execution_count": 7,
   "metadata": {},
   "outputs": [],
   "source": [
    "if(debug) {\n",
    "data = data.sample(false, 0.001, 42)\n",
    "}"
   ]
  },
  {
   "cell_type": "code",
   "execution_count": 8,
   "metadata": {},
   "outputs": [
    {
     "data": {
      "text/plain": [
       "res2: Long = 927142\n"
      ]
     },
     "execution_count": 8,
     "metadata": {},
     "output_type": "execute_result"
    }
   ],
   "source": [
    "data.count()"
   ]
  },
  {
   "cell_type": "code",
   "execution_count": 9,
   "metadata": {},
   "outputs": [
    {
     "data": {
      "text/plain": [
       "truncated_data: org.apache.spark.rdd.RDD[String] = MapPartitionsRDD[3] at map at <console>:28\n"
      ]
     },
     "execution_count": 9,
     "metadata": {},
     "output_type": "execute_result"
    }
   ],
   "source": [
    "val truncated_data = data.map(_.split(',')(1))"
   ]
  },
  {
   "cell_type": "code",
   "execution_count": 10,
   "metadata": {},
   "outputs": [
    {
     "data": {
      "text/plain": [
       "preprocessed_Data: org.apache.spark.sql.DataFrame = [text: array<string>]\n"
      ]
     },
     "execution_count": 10,
     "metadata": {},
     "output_type": "execute_result"
    }
   ],
   "source": [
    "val preprocessed_Data = truncated_data.map(_.split('|')).map(Tuple1.apply).toDF(\"text\")"
   ]
  },
  {
   "cell_type": "code",
   "execution_count": 11,
   "metadata": {},
   "outputs": [
    {
     "data": {
      "text/plain": [
       "words: org.apache.spark.rdd.RDD[String] = MapPartitionsRDD[9] at distinct at <console>:28\n"
      ]
     },
     "execution_count": 11,
     "metadata": {},
     "output_type": "execute_result"
    }
   ],
   "source": [
    "val words = truncated_data.flatMap(_.split('|')).distinct()"
   ]
  },
  {
   "cell_type": "code",
   "execution_count": 12,
   "metadata": {},
   "outputs": [
    {
     "name": "stdout",
     "output_type": "stream",
     "text": [
      "Direct beach access\n",
      "Guest House\n",
      "Ironing Board\n",
      "Bowling\n",
      "Towels\n",
      "Horse Riding\n",
      "Reception (24/7)\n",
      "Cot\n",
      "2 Star\n",
      "Cosmetic Mirror\n"
     ]
    },
    {
     "data": {
      "text/plain": [
       "res3: Long = 157\n"
      ]
     },
     "execution_count": 12,
     "metadata": {},
     "output_type": "execute_result"
    }
   ],
   "source": [
    "printRDD(words, 10)\n",
    "words.count()"
   ]
  },
  {
   "cell_type": "code",
   "execution_count": 13,
   "metadata": {},
   "outputs": [
    {
     "data": {
      "text/plain": [
       "res4: Long = 927142\n"
      ]
     },
     "execution_count": 13,
     "metadata": {},
     "output_type": "execute_result"
    }
   ],
   "source": [
    "preprocessed_Data.head(3)\n",
    "preprocessed_Data.count()"
   ]
  },
  {
   "cell_type": "code",
   "execution_count": 14,
   "metadata": {},
   "outputs": [
    {
     "data": {
      "text/plain": [
       "getModel: ()org.apache.spark.ml.feature.Word2Vec\n"
      ]
     },
     "execution_count": 14,
     "metadata": {},
     "output_type": "execute_result"
    }
   ],
   "source": [
    "def getModel() : Word2Vec = {\n",
    "    var word2vec = new Word2Vec()\n",
    "    word2vec.setInputCol(inputCol)\n",
    "    word2vec.setMaxIter(maxIter)\n",
    "    word2vec.setMinCount(minCount)\n",
    "    word2vec.setNumPartitions(numPartitions)\n",
    "    word2vec.setSeed(seed)\n",
    "    word2vec.setVectorSize(vectorSize)\n",
    "    return word2vec;\n",
    "}"
   ]
  },
  {
   "cell_type": "code",
   "execution_count": 15,
   "metadata": {},
   "outputs": [
    {
     "data": {
      "text/plain": [
       "model: org.apache.spark.ml.feature.Word2VecModel = w2v_f6bf20b6f3e3\n"
      ]
     },
     "execution_count": 15,
     "metadata": {},
     "output_type": "execute_result"
    }
   ],
   "source": [
    "val model = getModel().fit(preprocessed_Data)"
   ]
  },
  {
   "cell_type": "code",
   "execution_count": 16,
   "metadata": {},
   "outputs": [
    {
     "data": {
      "text/plain": [
       "getVectors: (model: org.apache.spark.ml.feature.Word2VecModel)Map[String,Array[Float]]\n"
      ]
     },
     "execution_count": 16,
     "metadata": {},
     "output_type": "execute_result"
    }
   ],
   "source": [
    "def getVectors(model:Word2VecModel) : Map[String, Array[Float]] = {\n",
    "    var map = Map[String, Array[Float]]()\n",
    "    for(x <- words) {\n",
    "        map ++ x -> model.getVectors(x)\n",
    "    }\n",
    "    return map\n",
    "}"
   ]
  },
  {
   "cell_type": "code",
   "execution_count": 17,
   "metadata": {},
   "outputs": [
    {
     "data": {
      "text/plain": [
       "res5: Array[org.apache.spark.sql.Row] = Array([Swimming Pool (Outdoor),0.9618108868598938], [Spa Hotel,0.94759202003479], [Ski Resort,0.945956826210022], [Health Retreat,0.9367016553878784], [Nightclub,0.9317147731781006], [Cot,0.930616557598114], [Casino (Hotel),0.922082245349884], [Szep Kartya,0.8853012919425964], [Beach,0.8825615644454956], [Hypoallergenic Bedding,0.8758768439292908])\n"
      ]
     },
     "execution_count": 17,
     "metadata": {},
     "output_type": "execute_result"
    }
   ],
   "source": [
    "model.findSynonyms(\"Gym\", 10).take(10)"
   ]
  },
  {
   "cell_type": "code",
   "execution_count": 18,
   "metadata": {},
   "outputs": [],
   "source": [
    "model.write.overwrite.save(\"word2vec-model-highdimensional\")"
   ]
  },
  {
   "cell_type": "code",
   "execution_count": 19,
   "metadata": {},
   "outputs": [],
   "source": [
    "model.getVectors.rdd.saveAsTextFile(\"vectors-highdimensional\")"
   ]
  },
  {
   "cell_type": "code",
   "execution_count": null,
   "metadata": {},
   "outputs": [],
   "source": []
  }
 ],
 "metadata": {
  "kernelspec": {
   "display_name": "spylon-kernel",
   "language": "scala",
   "name": "spylon-kernel"
  },
  "language_info": {
   "codemirror_mode": "text/x-scala",
   "file_extension": ".scala",
   "help_links": [
    {
     "text": "MetaKernel Magics",
     "url": "https://metakernel.readthedocs.io/en/latest/source/README.html"
    }
   ],
   "mimetype": "text/x-scala",
   "name": "scala",
   "pygments_lexer": "scala",
   "version": "0.4.1"
  }
 },
 "nbformat": 4,
 "nbformat_minor": 2
}
