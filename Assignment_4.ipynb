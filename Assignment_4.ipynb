{
 "cells": [
  {
   "cell_type": "markdown",
   "metadata": {},
   "source": [
    "---"
   ]
  },
  {
   "cell_type": "markdown",
   "metadata": {
    "deletable": false,
    "editable": false,
    "nbgrader": {
     "checksum": "9bd7ff71394e9fb96ff95b94bf68dee8",
     "grade": false,
     "grade_id": "cell-069100a95d5cf432",
     "locked": true,
     "schema_version": 1,
     "solution": false
    }
   },
   "source": [
    "# Assignment 4\n",
    "\n",
    "Welcome to the last assignment! Here you will evaluate the recommenders you developed in the previous assignemtns. We will use part of the MovieLens 20M dataset.\n",
    "\n",
    "You will write and execute your code in Python using this Jupyter Notebook.\n",
    "\n",
    "**PREREQUISITE:** Download the Movie Dataset from: <https://www.kaggle.com/rounakbanik/the-movies-dataset/data>. Extract the contents of the zip file into `data_directory`.\n",
    "So you should have, for example, a file `data_directory/movies_metadata.csv`.\n",
    "\n",
    "Also download the MovieLens 20M dataset from <https://grouplens.org/datasets/movielens/20m/>. Extract the `ratings.csv` file and overwrite the one in `data_directory` in the code. You should then have a file `data_directory/ratings.csv` that has about 20M ratings, instead of about 26M contained in the full MovieLens dataset from kaggle.\n",
    "\n",
    "**TASK:** Your job is: (1) Copy your code from previous assignments into the correct place in the `xxx-TO_EDIT.py` files; rename them to `xxx.py`, once done.\n",
    "(2) Fill in the missing code in this notebook.\n",
    "In both cases, the place to enter your code is clearly marked with comments.\n",
    "\n",
    "**SUBMISSION:** You will submit only this Notebook via TUWEL. Do not submit the `xxx.py` files --- we will use our own.\n",
    "\n",
    "**GRADING:** We will test whether you code produces the expected output that is provided. We will also run additional tests, not shown here."
   ]
  },
  {
   "cell_type": "markdown",
   "metadata": {
    "deletable": false,
    "editable": false,
    "nbgrader": {
     "checksum": "d1ded2ae778e739a06d20be0d9d0358b",
     "grade": false,
     "grade_id": "cell-7d3996addbdb0513",
     "locked": true,
     "schema_version": 1,
     "solution": false
    }
   },
   "source": [
    "## Preparation\n",
    "Importing necessary modules."
   ]
  },
  {
   "cell_type": "code",
   "execution_count": 1,
   "metadata": {
    "deletable": false,
    "editable": false,
    "nbgrader": {
     "checksum": "33f4871ed241692ef84327fe7901a0d0",
     "grade": false,
     "grade_id": "cell-f551d844f4ff5a5b",
     "locked": true,
     "schema_version": 1,
     "solution": false
    }
   },
   "outputs": [],
   "source": [
    "%load_ext autoreload\n",
    "%autoreload 2\n",
    "\n",
    "import csv\n",
    "import pandas as pd\n",
    "import numpy as np"
   ]
  },
  {
   "cell_type": "markdown",
   "metadata": {
    "deletable": false,
    "editable": false,
    "nbgrader": {
     "checksum": "363622de52d6dfefaa635c1102fb5ca4",
     "grade": false,
     "grade_id": "cell-8ac40463e009e648",
     "locked": true,
     "schema_version": 1,
     "solution": false
    }
   },
   "source": [
    "Make sure to enter the correct location of your data."
   ]
  },
  {
   "cell_type": "code",
   "execution_count": 2,
   "metadata": {},
   "outputs": [],
   "source": [
    "data_directory = '../assignment1/data/'"
   ]
  },
  {
   "cell_type": "code",
   "execution_count": null,
   "metadata": {
    "deletable": false,
    "editable": false,
    "nbgrader": {
     "checksum": "027ab34b2e970f1f78e33122420f7b29",
     "grade": true,
     "grade_id": "load-data-for-grading",
     "locked": true,
     "points": 0,
     "schema_version": 1,
     "solution": false
    }
   },
   "outputs": [],
   "source": []
  },
  {
   "cell_type": "markdown",
   "metadata": {
    "deletable": false,
    "editable": false,
    "nbgrader": {
     "checksum": "33f90a4373ce7f732173fbfca75c0ebe",
     "grade": false,
     "grade_id": "cell-4f0e56c1ed0c9415",
     "locked": true,
     "schema_version": 1,
     "solution": false
    }
   },
   "source": [
    "## Create the movies DataFrame"
   ]
  },
  {
   "cell_type": "code",
   "execution_count": 3,
   "metadata": {
    "deletable": false,
    "editable": false,
    "nbgrader": {
     "checksum": "b9ae959e552d27b5042fe7b13c2c7fe9",
     "grade": false,
     "grade_id": "cell-fc8433ac33942bd6",
     "locked": true,
     "schema_version": 1,
     "solution": false
    }
   },
   "outputs": [
    {
     "data": {
      "text/html": [
       "<div>\n",
       "<style scoped>\n",
       "    .dataframe tbody tr th:only-of-type {\n",
       "        vertical-align: middle;\n",
       "    }\n",
       "\n",
       "    .dataframe tbody tr th {\n",
       "        vertical-align: top;\n",
       "    }\n",
       "\n",
       "    .dataframe thead th {\n",
       "        text-align: right;\n",
       "    }\n",
       "</style>\n",
       "<table border=\"1\" class=\"dataframe\">\n",
       "  <thead>\n",
       "    <tr style=\"text-align: right;\">\n",
       "      <th></th>\n",
       "      <th>genres</th>\n",
       "      <th>id</th>\n",
       "      <th>plot</th>\n",
       "      <th>movieId</th>\n",
       "      <th>imdbId</th>\n",
       "      <th>title</th>\n",
       "      <th>keywords</th>\n",
       "      <th>cast</th>\n",
       "      <th>director</th>\n",
       "      <th>metadata</th>\n",
       "    </tr>\n",
       "  </thead>\n",
       "  <tbody>\n",
       "    <tr>\n",
       "      <th>0</th>\n",
       "      <td>[animation, comedy, family]</td>\n",
       "      <td>862</td>\n",
       "      <td>Led by Woody, Andy's toys live happily in his ...</td>\n",
       "      <td>1</td>\n",
       "      <td>114709</td>\n",
       "      <td>Toy Story (1995)</td>\n",
       "      <td>[jealousy, toy, boy]</td>\n",
       "      <td>[tomhanks, timallen, donrickles]</td>\n",
       "      <td>johnlasseter</td>\n",
       "      <td>jealousy toy boy tomhanks timallen donrickles ...</td>\n",
       "    </tr>\n",
       "    <tr>\n",
       "      <th>1</th>\n",
       "      <td>[adventure, fantasy, family]</td>\n",
       "      <td>8844</td>\n",
       "      <td>When siblings Judy and Peter discover an encha...</td>\n",
       "      <td>2</td>\n",
       "      <td>113497</td>\n",
       "      <td>Jumanji (1995)</td>\n",
       "      <td>[boardgame, disappearance, basedonchildren'sbook]</td>\n",
       "      <td>[robinwilliams, jonathanhyde, kirstendunst]</td>\n",
       "      <td>joejohnston</td>\n",
       "      <td>boardgame disappearance basedonchildren'sbook ...</td>\n",
       "    </tr>\n",
       "    <tr>\n",
       "      <th>2</th>\n",
       "      <td>[romance, comedy]</td>\n",
       "      <td>15602</td>\n",
       "      <td>A family wedding reignites the ancient feud be...</td>\n",
       "      <td>3</td>\n",
       "      <td>113228</td>\n",
       "      <td>Grumpier Old Men (1995)</td>\n",
       "      <td>[fishing, bestfriend, duringcreditsstinger]</td>\n",
       "      <td>[waltermatthau, jacklemmon, ann-margret]</td>\n",
       "      <td>howarddeutch</td>\n",
       "      <td>fishing bestfriend duringcreditsstinger walter...</td>\n",
       "    </tr>\n",
       "    <tr>\n",
       "      <th>3</th>\n",
       "      <td>[comedy, drama, romance]</td>\n",
       "      <td>31357</td>\n",
       "      <td>Cheated on, mistreated and stepped on, the wom...</td>\n",
       "      <td>4</td>\n",
       "      <td>114885</td>\n",
       "      <td>Waiting to Exhale (1995)</td>\n",
       "      <td>[basedonnovel, interracialrelationship, single...</td>\n",
       "      <td>[whitneyhouston, angelabassett, lorettadevine]</td>\n",
       "      <td>forestwhitaker</td>\n",
       "      <td>basedonnovel interracialrelationship singlemot...</td>\n",
       "    </tr>\n",
       "    <tr>\n",
       "      <th>4</th>\n",
       "      <td>[comedy]</td>\n",
       "      <td>11862</td>\n",
       "      <td>Just when George Banks has recovered from his ...</td>\n",
       "      <td>5</td>\n",
       "      <td>113041</td>\n",
       "      <td>Father of the Bride Part II (1995)</td>\n",
       "      <td>[baby, midlifecrisis, confidence]</td>\n",
       "      <td>[stevemartin, dianekeaton, martinshort]</td>\n",
       "      <td>charlesshyer</td>\n",
       "      <td>baby midlifecrisis confidence stevemartin dian...</td>\n",
       "    </tr>\n",
       "  </tbody>\n",
       "</table>\n",
       "</div>"
      ],
      "text/plain": [
       "                         genres     id  \\\n",
       "0   [animation, comedy, family]    862   \n",
       "1  [adventure, fantasy, family]   8844   \n",
       "2             [romance, comedy]  15602   \n",
       "3      [comedy, drama, romance]  31357   \n",
       "4                      [comedy]  11862   \n",
       "\n",
       "                                                plot  movieId  imdbId  \\\n",
       "0  Led by Woody, Andy's toys live happily in his ...        1  114709   \n",
       "1  When siblings Judy and Peter discover an encha...        2  113497   \n",
       "2  A family wedding reignites the ancient feud be...        3  113228   \n",
       "3  Cheated on, mistreated and stepped on, the wom...        4  114885   \n",
       "4  Just when George Banks has recovered from his ...        5  113041   \n",
       "\n",
       "                                title  \\\n",
       "0                    Toy Story (1995)   \n",
       "1                      Jumanji (1995)   \n",
       "2             Grumpier Old Men (1995)   \n",
       "3            Waiting to Exhale (1995)   \n",
       "4  Father of the Bride Part II (1995)   \n",
       "\n",
       "                                            keywords  \\\n",
       "0                               [jealousy, toy, boy]   \n",
       "1  [boardgame, disappearance, basedonchildren'sbook]   \n",
       "2        [fishing, bestfriend, duringcreditsstinger]   \n",
       "3  [basedonnovel, interracialrelationship, single...   \n",
       "4                  [baby, midlifecrisis, confidence]   \n",
       "\n",
       "                                             cast        director  \\\n",
       "0                [tomhanks, timallen, donrickles]    johnlasseter   \n",
       "1     [robinwilliams, jonathanhyde, kirstendunst]     joejohnston   \n",
       "2        [waltermatthau, jacklemmon, ann-margret]    howarddeutch   \n",
       "3  [whitneyhouston, angelabassett, lorettadevine]  forestwhitaker   \n",
       "4         [stevemartin, dianekeaton, martinshort]    charlesshyer   \n",
       "\n",
       "                                            metadata  \n",
       "0  jealousy toy boy tomhanks timallen donrickles ...  \n",
       "1  boardgame disappearance basedonchildren'sbook ...  \n",
       "2  fishing bestfriend duringcreditsstinger walter...  \n",
       "3  basedonnovel interracialrelationship singlemot...  \n",
       "4  baby midlifecrisis confidence stevemartin dian...  "
      ]
     },
     "execution_count": 3,
     "metadata": {},
     "output_type": "execute_result"
    }
   ],
   "source": [
    "links = pd.read_csv(data_directory + 'links.csv')\n",
    "movies_plain = pd.read_csv(data_directory + 'movies.csv')\n",
    "metadata = pd.read_csv(data_directory + 'movies_metadata.csv', low_memory=False)\n",
    "metadata.drop(metadata.columns[[0,1,2,4,6,7,8,10,11,12,13,14,15,16,17,18,19,20,21,22,23]], axis=1, inplace=True)\n",
    "keywords = pd.read_csv(data_directory + 'keywords.csv', low_memory=False)\n",
    "credits = pd.read_csv(data_directory + 'credits.csv', low_memory=False)\n",
    "\n",
    "keywords['id'] = keywords['id'].astype('int')\n",
    "links=links[links['tmdbId'].isnull()==False]\n",
    "links['tmdbId'] = links['tmdbId'].astype('int')\n",
    "metadata = metadata.drop([19730, 29503, 35587])\n",
    "metadata['id'] = metadata['id'].astype('int')\n",
    "credits['id'] = credits['id'].astype('int')\n",
    "\n",
    "movies = metadata.merge(links, how='inner', left_on='id', right_on='tmdbId')\n",
    "movies = movies.merge(movies_plain, how='inner', left_on='movieId', right_on='movieId')\n",
    "movies = movies.merge(keywords, how='inner', left_on='id', right_on='id')\n",
    "movies = movies.merge(credits, how='inner', left_on='id', right_on='id')\n",
    "movies = movies.drop(columns=['tmdbId','genres_y'])\n",
    "movies.rename(columns={'genres_x': 'genres'}, inplace=True)\n",
    "\n",
    "movies=movies[movies['overview'].isnull()==False]\n",
    "\n",
    "movies = movies[movies['movieId'] <= 1000]\n",
    "\n",
    "from ast import literal_eval\n",
    "\n",
    "features = ['cast', 'crew', 'keywords', 'genres']\n",
    "for feature in features:\n",
    "    movies[feature] = movies[feature].apply(literal_eval)\n",
    "    \n",
    "\n",
    "# Get the director's name from the crew feature. If director is not listed, return NaN\n",
    "def get_director(x):\n",
    "    for i in x:\n",
    "        if i['job'] == 'Director':\n",
    "            return i['name']\n",
    "    return np.nan\n",
    "\n",
    "# Returns the list top 3 elements or entire list; whichever is more.\n",
    "def get_list(x):\n",
    "    if isinstance(x, list):\n",
    "        names = [i['name'] for i in x]\n",
    "        #Check if more than 3 elements exist. If yes, return only first three. If no, return entire list.\n",
    "        if len(names) > 3:\n",
    "            names = names[:3]\n",
    "        return names\n",
    "\n",
    "    #Return empty list in case of missing/malformed data\n",
    "    return []\n",
    "\n",
    "# Define new director, cast, genres and keywords features that are in a suitable form.\n",
    "movies['director'] = movies['crew'].apply(get_director)\n",
    "\n",
    "features = ['cast', 'keywords', 'genres']\n",
    "for feature in features:\n",
    "    movies[feature] = movies[feature].apply(get_list)\n",
    "\n",
    "    \n",
    "# Function to convert all strings to lower case and strip names of spaces\n",
    "def clean_data(x):\n",
    "    if isinstance(x, list):\n",
    "        return [str.lower(i.replace(\" \", \"\")) for i in x]\n",
    "    else:\n",
    "        # Check if string exists. If not, return empty string\n",
    "        if isinstance(x, str):\n",
    "            return str.lower(x.replace(\" \", \"\"))\n",
    "        else:\n",
    "            return ''\n",
    "\n",
    "# Apply clean_data function to your features.\n",
    "features = ['cast', 'keywords', 'director', 'genres']\n",
    "\n",
    "for feature in features:\n",
    "    movies[feature] = movies[feature].apply(clean_data)\n",
    "\n",
    "    \n",
    "# Drop duplicate movies   \n",
    "import collections\n",
    "movie_ids = movies['movieId'].tolist()\n",
    "movie_ids_dup = [x for  x, y in collections.Counter(movie_ids).items() if y > 1]\n",
    "\n",
    "for movie_id in movie_ids_dup:\n",
    "    to_drop = movies.index[movies.movieId == movie_id].tolist()[1:]\n",
    "    movies.drop(to_drop, inplace=True)\n",
    "\n",
    "movies.drop(columns='crew', inplace=True)\n",
    "\n",
    "\n",
    "movies.rename(columns={'overview':'plot'}, inplace=True)\n",
    "\n",
    "def create_metadata(x):\n",
    "        return ' '.join(x['keywords']) + ' ' + ' '.join(x['cast']) + ' ' + x['director'] + ' ' + ' '.join(x['genres'])  \n",
    "\n",
    "# Create a new metadata feature\n",
    "movies['metadata'] = movies.apply(create_metadata, axis=1)\n",
    "\n",
    "movies.head()"
   ]
  },
  {
   "cell_type": "markdown",
   "metadata": {
    "deletable": false,
    "editable": false,
    "nbgrader": {
     "checksum": "576580619281b281b5e36981a99ff7e2",
     "grade": false,
     "grade_id": "cell-6d741b436f10ed88",
     "locked": true,
     "schema_version": 1,
     "solution": false
    }
   },
   "source": [
    "## Create the ratings DataFrame"
   ]
  },
  {
   "cell_type": "code",
   "execution_count": 34,
   "metadata": {
    "deletable": false,
    "editable": false,
    "nbgrader": {
     "checksum": "42408a8ab0bb20e43a246478b892568e",
     "grade": false,
     "grade_id": "cell-384094dd16b380a6",
     "locked": true,
     "schema_version": 1,
     "solution": false
    }
   },
   "outputs": [
    {
     "data": {
      "text/html": [
       "<div>\n",
       "<style scoped>\n",
       "    .dataframe tbody tr th:only-of-type {\n",
       "        vertical-align: middle;\n",
       "    }\n",
       "\n",
       "    .dataframe tbody tr th {\n",
       "        vertical-align: top;\n",
       "    }\n",
       "\n",
       "    .dataframe thead th {\n",
       "        text-align: right;\n",
       "    }\n",
       "</style>\n",
       "<table border=\"1\" class=\"dataframe\">\n",
       "  <thead>\n",
       "    <tr style=\"text-align: right;\">\n",
       "      <th></th>\n",
       "      <th>user</th>\n",
       "      <th>item</th>\n",
       "      <th>rating</th>\n",
       "    </tr>\n",
       "  </thead>\n",
       "  <tbody>\n",
       "    <tr>\n",
       "      <th>0</th>\n",
       "      <td>0</td>\n",
       "      <td>2</td>\n",
       "      <td>3.5</td>\n",
       "    </tr>\n",
       "    <tr>\n",
       "      <th>1</th>\n",
       "      <td>0</td>\n",
       "      <td>29</td>\n",
       "      <td>3.5</td>\n",
       "    </tr>\n",
       "    <tr>\n",
       "      <th>2</th>\n",
       "      <td>0</td>\n",
       "      <td>32</td>\n",
       "      <td>3.5</td>\n",
       "    </tr>\n",
       "    <tr>\n",
       "      <th>3</th>\n",
       "      <td>0</td>\n",
       "      <td>47</td>\n",
       "      <td>3.5</td>\n",
       "    </tr>\n",
       "    <tr>\n",
       "      <th>4</th>\n",
       "      <td>0</td>\n",
       "      <td>50</td>\n",
       "      <td>3.5</td>\n",
       "    </tr>\n",
       "  </tbody>\n",
       "</table>\n",
       "</div>"
      ],
      "text/plain": [
       "   user  item  rating\n",
       "0     0     2     3.5\n",
       "1     0    29     3.5\n",
       "2     0    32     3.5\n",
       "3     0    47     3.5\n",
       "4     0    50     3.5"
      ]
     },
     "execution_count": 34,
     "metadata": {},
     "output_type": "execute_result"
    }
   ],
   "source": [
    "ratings = pd.read_csv(data_directory + 'ratings.csv')\n",
    "ratings = ratings.drop(columns=['timestamp'])\n",
    "ratings = ratings[(ratings['userId'] < 1000) & (ratings['movieId'] < 100) ]\n",
    "\n",
    "ratings = ratings[ratings['movieId'].isin(movies['movieId'])]\n",
    "\n",
    "## keep users with more than 2 ratings\n",
    "ratings_count = ratings.groupby(['userId', 'movieId']).size().groupby('userId').size()\n",
    "ratings_ok = ratings_count[ratings_count >= 2].reset_index()[['userId']]\n",
    "ratings = ratings.merge(ratings_ok, \n",
    "               how = 'right',\n",
    "               left_on = 'userId',\n",
    "               right_on = 'userId')\n",
    "\n",
    "\n",
    "\n",
    "userIds = ratings.userId.unique()\n",
    "userIds.sort()\n",
    "userId_to_userIDX = dict(zip(userIds, range(0, userIds.size)))\n",
    "\n",
    "ratings = pd.concat([ratings['userId'].map(userId_to_userIDX), ratings['movieId'], ratings['rating']], axis=1)\n",
    "ratings.columns = ['user', 'item', 'rating']\n",
    "\n",
    "ratings.head()"
   ]
  },
  {
   "cell_type": "markdown",
   "metadata": {
    "deletable": false,
    "editable": false,
    "nbgrader": {
     "checksum": "f33f08ecee6cb2910c9703e6a9452a5a",
     "grade": false,
     "grade_id": "cell-272d2ccda90715a3",
     "locked": true,
     "schema_version": 1,
     "solution": false
    }
   },
   "source": [
    "## Split ratings into train and test subsets"
   ]
  },
  {
   "cell_type": "code",
   "execution_count": 5,
   "metadata": {
    "deletable": false,
    "editable": false,
    "nbgrader": {
     "checksum": "3662f690b384c828e9685cefc602e2f9",
     "grade": false,
     "grade_id": "cell-663f8ce000d27624",
     "locked": true,
     "schema_version": 1,
     "solution": false
    }
   },
   "outputs": [
    {
     "name": "stdout",
     "output_type": "stream",
     "text": [
      "665 users, 93 items, 4390 ratings in train set\n"
     ]
    }
   ],
   "source": [
    "from sklearn.model_selection import train_test_split\n",
    "\n",
    "\n",
    "ratings_train, ratings_test = train_test_split(ratings,\n",
    "                                               stratify=ratings['user'],\n",
    "                                               test_size=0.20,\n",
    "                                               random_state=42)\n",
    "\n",
    "\n",
    "\n",
    "### keep only users which have at least one positive (>3) ratings in train\n",
    "positive_ratings = ratings_train[ratings_train['rating']>3]\n",
    "positive_userIds = positive_ratings['user'].unique()\n",
    "\n",
    "ratings_train = ratings_train[ratings_train['user'].isin(positive_userIds)]\n",
    "ratings_test = ratings_test[ratings_test['user'].isin(positive_userIds)]\n",
    "\n",
    "\n",
    "### keep in test only ratings for movies which appear in train\n",
    "ratings_test = ratings_test[ratings_test['item'].isin(ratings_train['item'])]\n",
    "\n",
    "print(len(ratings_train['user'].unique()), 'users,', len(ratings_train['item'].unique()), 'items,', len(ratings_train.index), 'ratings in train set')"
   ]
  },
  {
   "cell_type": "markdown",
   "metadata": {
    "deletable": false,
    "editable": false,
    "nbgrader": {
     "checksum": "a3b3455887d878b16afb506c72623142",
     "grade": false,
     "grade_id": "cell-138c02e4404292c6",
     "locked": true,
     "schema_version": 1,
     "solution": false
    }
   },
   "source": [
    "## Import the recommenders --- TO EDIT EXTERNALLY\n",
    "\n",
    "You will implement the three recommenders from the previous assignments as classes in separate files. \n",
    "\n",
    "Steps:\n",
    "\n",
    "1. Rename the three python files to `Recommender_CB.py`, `Recommender_CF_UU.py`, and `Recommender_MF.py`. That is, remove the ending `-TO_EDIT` from their names.\n",
    "\n",
    "2. Fill in the missing code in these files. For the biggest part, you have to copy over the code you wrote for the assignment. IMPORTANT: because the recommenders are now implemented as separate classes, you may have to prefix non local variables with `self.` so that they are visible.\n",
    "\n",
    "In general, the idea is to implement a simple recommender API:\n",
    "```\n",
    "class Recommender:  \n",
    "    def __init__(self):\n",
    "        pass\n",
    "    \n",
    "    def build_model(self, ratings_train, movies):\n",
    "        pass\n",
    "    \n",
    "    def recommend(self, user_id, item_ids=None, topN=20):\n",
    "        pass\n",
    "```\n",
    "\n",
    "Once done, we can import these classes."
   ]
  },
  {
   "cell_type": "code",
   "execution_count": 19,
   "metadata": {
    "deletable": false,
    "editable": false,
    "nbgrader": {
     "checksum": "ce48092e043d9d194e24b6fed0306ed7",
     "grade": false,
     "grade_id": "cell-a2893a35f4610135",
     "locked": true,
     "schema_version": 1,
     "solution": false
    }
   },
   "outputs": [],
   "source": [
    "from Recommender_CB import ContentBasedRecommender\n",
    "from Recommender_CF_UU import UUCFRecommender\n",
    "from Recommender_MF import MFRecommender"
   ]
  },
  {
   "cell_type": "markdown",
   "metadata": {
    "deletable": false,
    "editable": false,
    "nbgrader": {
     "checksum": "78b40cdcd2f48f4bdef5ce3803246daf",
     "grade": false,
     "grade_id": "cell-b72c3ccf15bf9cd0",
     "locked": true,
     "schema_version": 1,
     "solution": false
    }
   },
   "source": [
    "## Testing the recommenders\n",
    "\n",
    "Make sure you have correctly copied the code from previous assignments to the right place."
   ]
  },
  {
   "cell_type": "code",
   "execution_count": 86,
   "metadata": {
    "deletable": false,
    "editable": false,
    "nbgrader": {
     "checksum": "9196beb84401ce91e06167be948dc35f",
     "grade": false,
     "grade_id": "cell-431fd1a980babe67",
     "locked": true,
     "schema_version": 1,
     "solution": false
    },
    "scrolled": false
   },
   "outputs": [
    {
     "name": "stdout",
     "output_type": "stream",
     "text": [
      "[92 72 55 62 50 46 73 66 75 67 52 51 18 14 90 54 83 93 23 28]\n",
      "[ 9  3 45 21 76 47 23 35 32 81  6 48 52 78 46 96 44  8 94 43]\n",
      "[92 65 72 90 13 43 37 85 50 49 57 23 61  9 46 52 51 16 47 84]\n"
     ]
    }
   ],
   "source": [
    "cbr = ContentBasedRecommender('plot')\n",
    "cbr.build_model(ratings_train, movies)\n",
    "\n",
    "print(cbr.recommend(200))\n",
    "print(cbr.recommend(100))\n",
    "print(cbr.recommend(26))"
   ]
  },
  {
   "cell_type": "markdown",
   "metadata": {
    "deletable": false,
    "editable": false,
    "nbgrader": {
     "checksum": "45e9531a7bc69b5c3d59f3d4a87e1522",
     "grade": false,
     "grade_id": "cell-7b070ab7517ecb80",
     "locked": true,
     "schema_version": 1,
     "solution": false
    }
   },
   "source": [
    "**EXPECTED OUTPUT:**\n",
    "```\n",
    "[72, 55, 92, 50, 73, 66, 52, 46, 51, 18, 14, 67, 75, 93, 28, 45, 21, 83, 58, 23]\n",
    "[9, 3, 45, 21, 76, 47, 35, 32, 81, 6, 23, 78, 48, 96, 8, 94, 52, 69, 43, 46]\n",
    "[92, 65, 13, 43, 72, 37, 49, 57, 61, 46, 52, 50, 51, 16, 23, 84, 9, 83, 73, 89]\n",
    "```"
   ]
  },
  {
   "cell_type": "code",
   "execution_count": 111,
   "metadata": {
    "deletable": false,
    "editable": false,
    "nbgrader": {
     "checksum": "52bbda3d0ddbd604ceb013055afda2cb",
     "grade": false,
     "grade_id": "cell-b7a9dfaa46811e80",
     "locked": true,
     "schema_version": 1,
     "solution": false
    }
   },
   "outputs": [
    {
     "name": "stdout",
     "output_type": "stream",
     "text": [
      "[97, 82, 90, 16, 37, 99, 94, 47, 14, 85, 50, 25, 58, 78, 73, 36, 62, 46, 7, 26]\n",
      "[84, 40, 99, 30, 26, 73, 50, 37, 38, 17, 54, 47, 18, 63, 1, 41, 94, 81, 62, 6]\n",
      "[37, 35, 90, 26, 49, 6, 85, 13, 58, 50, 99, 94, 25, 34, 36, 69, 14, 22, 40, 27]\n"
     ]
    },
    {
     "name": "stderr",
     "output_type": "stream",
     "text": [
      "/home/christoph/Dokumente/recsys_2019/assignment4/Recommender_CF_UU.py:166: RuntimeWarning: invalid value encountered in double_scalars\n",
      "  neighborhood_weighted_avg = sumRatings / sumAbsWeights\n"
     ]
    }
   ],
   "source": [
    "uucf = UUCFRecommender()\n",
    "uucf.build_model(ratings_train)\n",
    "\n",
    "print(uucf.recommend(200))\n",
    "print(uucf.recommend(100))\n",
    "print(uucf.recommend(26))"
   ]
  },
  {
   "cell_type": "markdown",
   "metadata": {
    "deletable": false,
    "editable": false,
    "nbgrader": {
     "checksum": "018a9e85d7cd579558f05f3af1dea689",
     "grade": false,
     "grade_id": "cell-2fa5a36ea3cfbb98",
     "locked": true,
     "schema_version": 1,
     "solution": false
    }
   },
   "source": [
    "**EXPECTED OUTPUT:**\n",
    "```\n",
    "[97, 82, 90, 16, 37, 99, 94, 47, 14, 85, 50, 25, 58, 78, 73, 36, 62, 46, 7, 26]\n",
    "[84, 40, 99, 30, 26, 73, 50, 37, 38, 17, 54, 47, 18, 63, 1, 41, 94, 81, 62, 6]\n",
    "[37, 35, 90, 26, 49, 6, 85, 13, 58, 50, 99, 94, 25, 34, 36, 69, 14, 22, 40, 27]\n",
    "```"
   ]
  },
  {
   "cell_type": "code",
   "execution_count": 53,
   "metadata": {
    "deletable": false,
    "editable": false,
    "nbgrader": {
     "checksum": "f55e74bf995bc80a7f2c5b2ac08e6579",
     "grade": false,
     "grade_id": "cell-6dd449713e92bec2",
     "locked": true,
     "schema_version": 1,
     "solution": false
    }
   },
   "outputs": [
    {
     "name": "stdout",
     "output_type": "stream",
     "text": [
      "[50, 47, 6, 32, 36, 25, 58, 16, 62, 73, 72, 29, 21, 82, 92, 41, 84, 42, 56, 54]\n",
      "[50, 47, 1, 17, 6, 32, 62, 73, 72, 11, 41, 29, 21, 92, 74, 13, 82, 76, 55, 7]\n",
      "[50, 47, 6, 36, 58, 16, 25, 62, 82, 29, 72, 73, 42, 11, 56, 92, 41, 54, 96, 35]\n"
     ]
    }
   ],
   "source": [
    "mfr = MFRecommender()\n",
    "mfr.build_model(ratings_train)\n",
    "\n",
    "print(mfr.recommend(200))\n",
    "print(mfr.recommend(100))\n",
    "print(mfr.recommend(26))"
   ]
  },
  {
   "cell_type": "markdown",
   "metadata": {
    "deletable": false,
    "editable": false,
    "nbgrader": {
     "checksum": "3d5fd38deffd64f5b72b53504731a106",
     "grade": false,
     "grade_id": "cell-7974847f26dc0174",
     "locked": true,
     "schema_version": 1,
     "solution": false
    }
   },
   "source": [
    "**EXPECTED OUTPUT:**\n",
    "```\n",
    "[50, 47, 6, 32, 36, 25, 58, 16, 62, 73, 72, 29, 21, 82, 92, 41, 84, 42, 56, 54]\n",
    "[50, 47, 1, 17, 6, 32, 62, 73, 72, 11, 41, 29, 21, 92, 74, 13, 82, 76, 55, 7]\n",
    "[50, 47, 6, 36, 58, 16, 25, 62, 82, 29, 72, 73, 42, 11, 56, 92, 41, 54, 96, 35]\n",
    "```"
   ]
  },
  {
   "cell_type": "markdown",
   "metadata": {
    "deletable": false,
    "editable": false,
    "nbgrader": {
     "checksum": "85edec1e229fafaf10f9a3401cf60514",
     "grade": false,
     "grade_id": "cell-5c66b0645f918219",
     "locked": true,
     "schema_version": 1,
     "solution": false
    }
   },
   "source": [
    "## Implement the Evaluator --- TO EDIT\n",
    "\n",
    "The following class evaluates the ranking produced by a recommender.\n",
    "\n",
    "**NOTE:** You should implement the following variant of DCG (there is a slight difference from the course slides):\n",
    "\n",
    "$$\\text{DCG}@k = \\sum_{i=1}^k \\frac{2^{rel_i}-1}{\\log(i+1)}$$\n",
    "\n",
    "where $rel_i$ is the relevance score of the item at position $i$ in the ranking. The definition of IDCG, and thus NDCG, is the same."
   ]
  },
  {
   "cell_type": "code",
   "execution_count": 162,
   "metadata": {
    "deletable": false,
    "nbgrader": {
     "checksum": "06ba2da6729828fb5b8b9816d0aaa970",
     "grade": false,
     "grade_id": "Evaluator",
     "locked": false,
     "schema_version": 1,
     "solution": true
    }
   },
   "outputs": [],
   "source": [
    "import math\n",
    "import random\n",
    "import warnings\n",
    "\n",
    "\n",
    "DEBUG = True\n",
    "\n",
    "if DEBUG:\n",
    "    random.seed(42)\n",
    "\n",
    "class Evaluator:\n",
    "    \n",
    "    def __init__(self, topN=20):\n",
    "        self.topN = topN\n",
    "\n",
    "    \n",
    "    def init_data(self, ratings_train, ratings_test):\n",
    "        self.ratings_train = ratings_train\n",
    "        self.ratings_test = ratings_test\n",
    "        self.find_unrated_items()\n",
    "    \n",
    "    \n",
    "    ### store for each user her/his unrated items\n",
    "    def find_unrated_items(self):\n",
    "        all_items = set(self.ratings_train['item'].tolist())\n",
    "        \n",
    "        self.unrated = {}\n",
    "        \n",
    "        for user_id in self.ratings_train['user'].unique():\n",
    "            rated_train_items = self.ratings_train[self.ratings_train['user'] == user_id]['item'].tolist()\n",
    "            rated_test_items = self.ratings_test[self.ratings_test['user'] == user_id]['item'].tolist()\n",
    "\n",
    "            rated_items = set(rated_train_items) | set(rated_test_items) # union of sets\n",
    "            unrated_items = list(all_items - rated_items)\n",
    "            random.shuffle(unrated_items)\n",
    "            \n",
    "            self.unrated[user_id] = unrated_items\n",
    "            \n",
    "    \n",
    "    ### get the ratings of user_id in ratings_test\n",
    "    def get_ground_truth(self, user_id):\n",
    "        \n",
    "        ## get the test ratings of user_id as a DataFrame subset of `self.ratings_test`\n",
    "        # YOUR CODE HERE\n",
    "        user_ratings = self.ratings_test.loc[self.ratings_test['user'] == user_id]\n",
    "        \n",
    "        ## dictionary of ground truth ratings\n",
    "        ground_truth = pd.Series(user_ratings['rating'].values, index=user_ratings['item']).to_dict()\n",
    "\n",
    "        return ground_truth\n",
    "    \n",
    "    \n",
    "    def get_recommendations(self, model, user_id):\n",
    "        ground_truth = self.get_ground_truth(user_id)\n",
    "        n_test = len(ground_truth)\n",
    "        \n",
    "        ## we will create a total of topN items, and ask the recommender to rank them\n",
    "        ## among these items, we will include the ground truth items\n",
    "        \n",
    "        ## 1. select (topN - n_test) unrated items\n",
    "        item_ids = self.unrated[user_id][:self.topN - n_test]\n",
    "        \n",
    "        ## 2; add ground truth items\n",
    "        item_ids = item_ids + list(ground_truth.keys())\n",
    "        \n",
    "        ## get the model's ranking\n",
    "        recommendations = model.recommend(user_id, item_ids, self.topN)\n",
    "        return recommendations\n",
    "    \n",
    "    \n",
    "    ### evaluate the model on given user_id\n",
    "    def eval_model_on_user(self, model, user_id):\n",
    "        ground_truth = self.get_ground_truth(user_id)\n",
    "        n_test = len(ground_truth)\n",
    "        \n",
    "        ## we will create a total of topN items, and ask the recommender to rank them\n",
    "        ## among these items, we will include the ground truth items\n",
    "        \n",
    "        ## 1. select (topN - n_test) unrated items\n",
    "        item_ids = self.unrated[user_id][:self.topN - n_test]\n",
    "        \n",
    "        ## 2; add ground truth items\n",
    "        item_ids = item_ids + list(ground_truth.keys())\n",
    "        \n",
    "        ## get the model's ranking\n",
    "        recommendations = model.recommend(user_id, item_ids, self.topN)\n",
    "        \n",
    "        ## evaluate the ranking\n",
    "        metrics = self.get_ranking_metrics(ground_truth, recommendations)\n",
    "        \n",
    "        return metrics\n",
    "    \n",
    "    \n",
    "    ### evaluate the model on all users\n",
    "    def eval_model(self, model, n_users=-1):\n",
    "        metrics_all = []\n",
    "        count = 0;\n",
    "        for user_id in self.ratings_train['user'].unique():\n",
    "            count+=1\n",
    "            print(\"\\r\", \"evaluated on \", count, \" users\", end=\"\", sep=\"\")\n",
    "            metrics = self.eval_model_on_user(model, user_id)\n",
    "            if metrics is None:\n",
    "                continue\n",
    "            metrics_all.append(metrics)\n",
    "            if count == n_users:\n",
    "                break\n",
    "        \n",
    "        print(\"\\n\")\n",
    "        \n",
    "        \n",
    "        ## store all metrics in a DataFrame for easy manipulation\n",
    "        metrics_all_df = pd.DataFrame(metrics_all)\n",
    "        self.metrics_all_df = metrics_all_df        \n",
    "        \n",
    "        ## average over all metrics\n",
    "        hits_array = metrics_all_df.hits\n",
    "        hits = np.nanmean(hits_array)\n",
    "        ap_array = metrics_all_df.ap\n",
    "        ap = np.nanmean(ap_array)\n",
    "        \n",
    "        rec_array = np.vstack(metrics_all_df.rec)\n",
    "        prec_array = np.vstack(metrics_all_df.prec)\n",
    "        ndcg_array = np.vstack(metrics_all_df.ndcg)\n",
    "        \n",
    "        \n",
    "        with warnings.catch_warnings(): ## ignore division by 0\n",
    "            warnings.simplefilter(\"ignore\", category=RuntimeWarning)\n",
    "            rec = np.nanmean(rec_array, axis=0)\n",
    "            prec = np.nanmean(prec_array, axis=0)\n",
    "            ndcg = np.nanmean(ndcg_array, axis=0)\n",
    "        \n",
    "        \n",
    "        metrics_avg = {'hits':hits,\n",
    "                   'ap':ap,\n",
    "                   'rec':np.array(rec),\n",
    "                   'prec':np.array(prec),\n",
    "                   'ndcg':np.array(ndcg)}\n",
    "        \n",
    "        return metrics_avg\n",
    "        \n",
    "    ### get some evaluation metrics for ranking with respect to ground_truth\n",
    "    def get_ranking_metrics(self, ground_truth, ranking):\n",
    "        n_test = len(ground_truth)\n",
    "        if n_test == 0:\n",
    "            return None\n",
    "        \n",
    "        hits = 0 ## number of relevant in ranking\n",
    "        rec = [] ## recall at every position of ranking\n",
    "        prec = [] ## precision at every position of ranking\n",
    "        dcg = [] ## DCG at every position of ranking\n",
    "        ap = 0 ## average precision\n",
    "        \n",
    "        \n",
    "        ## scan the ranking and compute hits, rec, prec, dcg, ap\n",
    "        # YOUR CODE HERE\n",
    "        runs = 1\n",
    "        for x in ranking:\n",
    "            if(x in ground_truth):\n",
    "                hits+=1\n",
    "                ap += (hits/runs)\n",
    "                relevance = ground_truth.get(x)\n",
    "            else:\n",
    "                relevance = 0.\n",
    "            prec.append(hits/runs)\n",
    "            runs+=1\n",
    "            numerator = math.pow(2,relevance) - 1\n",
    "            denumerator = math.log(runs,2)\n",
    "            if(len(dcg) > 0):\n",
    "                dcg.append(np.array(dcg)[len(dcg)-1]+numerator/denumerator)\n",
    "            else:\n",
    "                dcg.append(numerator/denumerator)\n",
    "                \n",
    "        hitsForRecall = 0\n",
    "        for x in ranking:\n",
    "            if(x in ground_truth):\n",
    "                hitsForRecall += 1\n",
    "            rec.append(hitsForRecall/hits)\n",
    "                \n",
    "        if (hits != 0):\n",
    "            ap /= hits\n",
    "        else:\n",
    "            ap = 0\n",
    "            \n",
    "        ## constuct the ideal ranking from ground truth to compute idcg\n",
    "        ideal = sorted(ground_truth, key=ground_truth.get, reverse=True)\n",
    "        idcg = []\n",
    "        \n",
    "        ## scan the ideal ranking and compute idcg\n",
    "        # YOUR CODE HERE\n",
    "        runs = 1\n",
    "        for x in ideal:\n",
    "            relevance = ground_truth.get(x)\n",
    "            numerator = math.pow(2,relevance) - 1\n",
    "            denumerator = math.log(runs+1,2)\n",
    "            runs+=1\n",
    "            if(len(idcg) > 0):\n",
    "                idcg.append(np.array(idcg)[len(idcg)-1]+numerator/denumerator)\n",
    "            else:\n",
    "                idcg.append(numerator/denumerator)\n",
    "                \n",
    "        for x in range(0,(len(dcg)-len(idcg))):\n",
    "            idcg.append(np.array(idcg)[len(idcg)-1])\n",
    "            \n",
    "        ## make sure the dcg and idcg lists have the same length\n",
    "        if len(ideal) >= len(ranking):\n",
    "            idcg = idcg[:len(ranking)]\n",
    "        else:\n",
    "            last_idcg = idcg[-1]\n",
    "            for i in range(len(ranking) - len(ideal)):\n",
    "                idcg.append(last_idcg)\n",
    "        \n",
    "        ## compute NDCG = DCG/IDCG\n",
    "        ## TIP convert lists to `np.array` to do the division and then back to a list with `.tolist()`\n",
    "        # YOUR CODE HERE\n",
    "        \n",
    "        ndcg = []\n",
    "        for x in range(0,len(dcg)):\n",
    "            ndcg.append(dcg[x]/idcg[x])\n",
    "            \n",
    "        rec = np.array(rec)\n",
    "        prec = np.array(prec)\n",
    "        ndcg = np.array(ndcg)\n",
    "        \n",
    "        ## make them have length self.topN, fill in with nan \n",
    "        rec = np.append(rec, np.repeat(np.nan, self.topN - len(rec)))\n",
    "        prec = np.append(prec, np.repeat(np.nan, self.topN - len(prec)))\n",
    "        ndcg = np.append(ndcg, np.repeat(np.nan, self.topN - len(ndcg)))\n",
    "        \n",
    "        metrics = {'hits':hits,\n",
    "                   'ap':ap,\n",
    "                   'rec':np.array(rec),\n",
    "                   'prec':np.array(prec),\n",
    "                   'ndcg':np.array(ndcg)}\n",
    "        \n",
    "        return metrics"
   ]
  },
  {
   "cell_type": "markdown",
   "metadata": {
    "deletable": false,
    "editable": false,
    "nbgrader": {
     "checksum": "0aa4644491aa40fbc9e2196838a3ec2b",
     "grade": false,
     "grade_id": "cell-1c036415aeba961a",
     "locked": true,
     "schema_version": 1,
     "solution": false
    }
   },
   "source": [
    "## Test the ranking metrics"
   ]
  },
  {
   "cell_type": "code",
   "execution_count": 163,
   "metadata": {
    "deletable": false,
    "editable": false,
    "nbgrader": {
     "checksum": "edf84f1f9b8d5840a034ffc9fa2e5b0a",
     "grade": false,
     "grade_id": "cell-febb067df9f094e2",
     "locked": true,
     "schema_version": 1,
     "solution": false
    }
   },
   "outputs": [
    {
     "data": {
      "text/plain": [
       "{'hits': 4,\n",
       " 'ap': 0.7875,\n",
       " 'rec': array([0.25, 0.5 , 0.5 , 0.75, 0.75, 0.75, 0.75, 0.75, 0.75, 1.  ]),\n",
       " 'prec': array([1.        , 1.        , 0.66666667, 0.75      , 0.6       ,\n",
       "        0.5       , 0.42857143, 0.375     , 0.33333333, 0.4       ]),\n",
       " 'ndcg': array([0.48387097, 0.85406456, 0.78607189, 0.79980018, 0.79980018,\n",
       "        0.79980018, 0.79980018, 0.79980018, 0.79980018, 0.84287192])}"
      ]
     },
     "execution_count": 163,
     "metadata": {},
     "output_type": "execute_result"
    }
   ],
   "source": [
    "evl = Evaluator(topN = 10)\n",
    "\n",
    "ground_truth = {200:5, 100:4, 400:3, 1000:3}\n",
    "\n",
    "ranking = list(range(100, 1100, 100))\n",
    "\n",
    "evl.get_ranking_metrics(ground_truth, ranking)"
   ]
  },
  {
   "cell_type": "markdown",
   "metadata": {
    "deletable": false,
    "editable": false,
    "nbgrader": {
     "checksum": "85943a7d8e7d3939ede184e86a11bf3e",
     "grade": false,
     "grade_id": "cell-77f3977356f7ebe0",
     "locked": true,
     "schema_version": 1,
     "solution": false
    }
   },
   "source": [
    "**EXPECTED OUTPUT:**\n",
    "```\n",
    "{'ap': 0.7875,\n",
    " 'hits': 4,\n",
    " 'ndcg': array([0.48387097, 0.85406456, 0.78607189, 0.79980018, 0.79980018,\n",
    "        0.79980018, 0.79980018, 0.79980018, 0.79980018, 0.84287192]),\n",
    " 'prec': array([1.        , 1.        , 0.66666667, 0.75      , 0.6       ,\n",
    "        0.5       , 0.42857143, 0.375     , 0.33333333, 0.4       ]),\n",
    " 'rec': array([0.25, 0.5 , 0.5 , 0.75, 0.75, 0.75, 0.75, 0.75, 0.75, 1.  ])}\n",
    "```"
   ]
  },
  {
   "cell_type": "markdown",
   "metadata": {
    "deletable": false,
    "editable": false,
    "nbgrader": {
     "checksum": "cbcd1d59bae748a6dd6e2d80a22e1b19",
     "grade": false,
     "grade_id": "cell-d5effef25a27e666",
     "locked": true,
     "schema_version": 1,
     "solution": false
    }
   },
   "source": [
    "## Test the Evaluator"
   ]
  },
  {
   "cell_type": "code",
   "execution_count": 164,
   "metadata": {
    "deletable": false,
    "editable": false,
    "nbgrader": {
     "checksum": "16a0d696167e6d2aad7e6c6d8ca8325f",
     "grade": false,
     "grade_id": "cell-996c4b02b2f83d81",
     "locked": true,
     "schema_version": 1,
     "solution": false
    }
   },
   "outputs": [],
   "source": [
    "evl = Evaluator(topN = 20)\n",
    "\n",
    "evl.init_data(ratings_train, ratings_test)"
   ]
  },
  {
   "cell_type": "markdown",
   "metadata": {
    "deletable": false,
    "editable": false,
    "nbgrader": {
     "checksum": "c7129de81c5db9e52584e3179f1238b1",
     "grade": false,
     "grade_id": "cell-cbb2c915a37988de",
     "locked": true,
     "schema_version": 1,
     "solution": false
    }
   },
   "source": [
    "Show the ground truth for user 200"
   ]
  },
  {
   "cell_type": "code",
   "execution_count": 165,
   "metadata": {
    "deletable": false,
    "editable": false,
    "nbgrader": {
     "checksum": "0144552ab6e26254a4ccba2a484128a8",
     "grade": false,
     "grade_id": "cell-fbf0a67f0f3df975",
     "locked": true,
     "schema_version": 1,
     "solution": false
    }
   },
   "outputs": [
    {
     "data": {
      "text/plain": [
       "{48: 4.0, 62: 5.0}"
      ]
     },
     "execution_count": 165,
     "metadata": {},
     "output_type": "execute_result"
    }
   ],
   "source": [
    "evl.get_ground_truth(200)"
   ]
  },
  {
   "cell_type": "markdown",
   "metadata": {
    "deletable": false,
    "editable": false,
    "nbgrader": {
     "checksum": "d05c3b2e10eaafc03fb4c41b3b04cafe",
     "grade": false,
     "grade_id": "cell-0a4b4fe352d5c175",
     "locked": true,
     "schema_version": 1,
     "solution": false
    }
   },
   "source": [
    "Evaluate UU-CF on user 200:"
   ]
  },
  {
   "cell_type": "code",
   "execution_count": 166,
   "metadata": {
    "deletable": false,
    "editable": false,
    "nbgrader": {
     "checksum": "b2b7718b832f23b01dd11ef4b507359c",
     "grade": false,
     "grade_id": "cell-258cec54a0c644f1",
     "locked": true,
     "schema_version": 1,
     "solution": false
    }
   },
   "outputs": [
    {
     "data": {
      "text/plain": [
       "{'hits': 2,\n",
       " 'ap': 0.25,\n",
       " 'rec': array([0. , 0. , 0.5, 0.5, 0.5, 0.5, 0.5, 0.5, 0.5, 0.5, 0.5, 1. , 1. ,\n",
       "        1. , 1. , 1. , 1. , 1. , 1. , 1. ]),\n",
       " 'prec': array([0.        , 0.        , 0.33333333, 0.25      , 0.2       ,\n",
       "        0.16666667, 0.14285714, 0.125     , 0.11111111, 0.1       ,\n",
       "        0.09090909, 0.16666667, 0.15384615, 0.14285714, 0.13333333,\n",
       "        0.125     , 0.11764706, 0.11111111, 0.10526316, 0.1       ]),\n",
       " 'ndcg': array([0.        , 0.        , 0.38305705, 0.38305705, 0.38305705,\n",
       "        0.38305705, 0.38305705, 0.38305705, 0.38305705, 0.38305705,\n",
       "        0.38305705, 0.48323444, 0.48323444, 0.48323444, 0.48323444,\n",
       "        0.48323444, 0.48323444, 0.48323444, 0.48323444, 0.48323444])}"
      ]
     },
     "execution_count": 166,
     "metadata": {},
     "output_type": "execute_result"
    }
   ],
   "source": [
    "evl.eval_model_on_user(uucf, 200)"
   ]
  },
  {
   "cell_type": "markdown",
   "metadata": {
    "deletable": false,
    "editable": false,
    "nbgrader": {
     "checksum": "24c120213c89e7cf0e38dc8ab500bebf",
     "grade": false,
     "grade_id": "cell-5717f332fbd09a4d",
     "locked": true,
     "schema_version": 1,
     "solution": false
    }
   },
   "source": [
    "**EXPECTED OUTPUT:**\n",
    "```\n",
    "{'ap': 0.25,\n",
    " 'hits': 2,\n",
    " 'ndcg': array([0.        , 0.        , 0.38305705, 0.38305705, 0.38305705,\n",
    "        0.38305705, 0.38305705, 0.38305705, 0.38305705, 0.38305705,\n",
    "        0.38305705, 0.48323444, 0.48323444, 0.48323444, 0.48323444,\n",
    "        0.48323444, 0.48323444, 0.48323444, 0.48323444, 0.48323444]),\n",
    " 'prec': array([0.        , 0.        , 0.33333333, 0.25      , 0.2       ,\n",
    "        0.16666667, 0.14285714, 0.125     , 0.11111111, 0.1       ,\n",
    "        0.09090909, 0.16666667, 0.15384615, 0.14285714, 0.13333333,\n",
    "        0.125     , 0.11764706, 0.11111111, 0.10526316, 0.1       ]),\n",
    " 'rec': array([0. , 0. , 0.5, 0.5, 0.5, 0.5, 0.5, 0.5, 0.5, 0.5, 0.5, 1. , 1. ,\n",
    "        1. , 1. , 1. , 1. , 1. , 1. , 1. ])}\n",
    "```"
   ]
  },
  {
   "cell_type": "markdown",
   "metadata": {
    "deletable": false,
    "editable": false,
    "nbgrader": {
     "checksum": "d7613e11bc6d5a95aef55734152511e0",
     "grade": false,
     "grade_id": "cell-23adf76f9eee8fda",
     "locked": true,
     "schema_version": 1,
     "solution": false
    }
   },
   "source": [
    "Evaluate MF on user 200:"
   ]
  },
  {
   "cell_type": "code",
   "execution_count": 167,
   "metadata": {
    "deletable": false,
    "editable": false,
    "nbgrader": {
     "checksum": "53c93121a2ee2e956b7599ba7d1a0732",
     "grade": false,
     "grade_id": "cell-1318c7e03a097588",
     "locked": true,
     "schema_version": 1,
     "solution": false
    }
   },
   "outputs": [
    {
     "data": {
      "text/plain": [
       "{'hits': 2,\n",
       " 'ap': 0.3026315789473684,\n",
       " 'rec': array([0. , 0.5, 0.5, 0.5, 0.5, 0.5, 0.5, 0.5, 0.5, 0.5, 0.5, 0.5, 0.5,\n",
       "        0.5, 0.5, 0.5, 0.5, 0.5, 1. , 1. ]),\n",
       " 'prec': array([0.        , 0.5       , 0.33333333, 0.25      , 0.2       ,\n",
       "        0.16666667, 0.14285714, 0.125     , 0.11111111, 0.1       ,\n",
       "        0.09090909, 0.08333333, 0.07692308, 0.07142857, 0.06666667,\n",
       "        0.0625    , 0.05882353, 0.05555556, 0.10526316, 0.1       ]),\n",
       " 'ndcg': array([0.        , 0.48336418, 0.48336418, 0.48336418, 0.48336418,\n",
       "        0.48336418, 0.48336418, 0.48336418, 0.48336418, 0.48336418,\n",
       "        0.48336418, 0.48336418, 0.48336418, 0.48336418, 0.48336418,\n",
       "        0.48336418, 0.48336418, 0.48336418, 0.56913617, 0.56913617])}"
      ]
     },
     "execution_count": 167,
     "metadata": {},
     "output_type": "execute_result"
    }
   ],
   "source": [
    "evl.eval_model_on_user(mfr, 200)"
   ]
  },
  {
   "cell_type": "markdown",
   "metadata": {
    "deletable": false,
    "editable": false,
    "nbgrader": {
     "checksum": "382404b9db3607f1f8a3ea9f15205d13",
     "grade": false,
     "grade_id": "cell-96840db2a95297af",
     "locked": true,
     "schema_version": 1,
     "solution": false
    }
   },
   "source": [
    "**EXPECTED OUTPUT:**\n",
    "```\n",
    "{'ap': 0.3026315789473684,\n",
    " 'hits': 2,\n",
    " 'ndcg': array([0.        , 0.48336418, 0.48336418, 0.48336418, 0.48336418,\n",
    "        0.48336418, 0.48336418, 0.48336418, 0.48336418, 0.48336418,\n",
    "        0.48336418, 0.48336418, 0.48336418, 0.48336418, 0.48336418,\n",
    "        0.48336418, 0.48336418, 0.48336418, 0.56913617, 0.56913617]),\n",
    " 'prec': array([0.        , 0.5       , 0.33333333, 0.25      , 0.2       ,\n",
    "        0.16666667, 0.14285714, 0.125     , 0.11111111, 0.1       ,\n",
    "        0.09090909, 0.08333333, 0.07692308, 0.07142857, 0.06666667,\n",
    "        0.0625    , 0.05882353, 0.05555556, 0.10526316, 0.1       ]),\n",
    " 'rec': array([0. , 0.5, 0.5, 0.5, 0.5, 0.5, 0.5, 0.5, 0.5, 0.5, 0.5, 0.5, 0.5,\n",
    "        0.5, 0.5, 0.5, 0.5, 0.5, 1. , 1. ])}\n",
    "```"
   ]
  },
  {
   "cell_type": "markdown",
   "metadata": {
    "deletable": false,
    "editable": false,
    "nbgrader": {
     "checksum": "dacfc5ff03a252f22e56aa3bdeb36cae",
     "grade": false,
     "grade_id": "cell-7c1fda8531adb931",
     "locked": true,
     "schema_version": 1,
     "solution": false
    }
   },
   "source": [
    "Evaluate CB on user 200:"
   ]
  },
  {
   "cell_type": "code",
   "execution_count": 168,
   "metadata": {
    "deletable": false,
    "editable": false,
    "nbgrader": {
     "checksum": "4586bb27f51fea611edd8f95a994d73b",
     "grade": false,
     "grade_id": "cell-675524a6779336e1",
     "locked": true,
     "schema_version": 1,
     "solution": false
    }
   },
   "outputs": [
    {
     "data": {
      "text/plain": [
       "{'hits': 2,\n",
       " 'ap': 0.3611111111111111,\n",
       " 'rec': array([0. , 0.5, 0.5, 0.5, 0.5, 0.5, 0.5, 0.5, 1. , 1. , 1. , 1. , 1. ,\n",
       "        1. , 1. , 1. , 1. , 1. , 1. , 1. ]),\n",
       " 'prec': array([0.        , 0.5       , 0.33333333, 0.25      , 0.2       ,\n",
       "        0.16666667, 0.14285714, 0.125     , 0.22222222, 0.2       ,\n",
       "        0.18181818, 0.16666667, 0.15384615, 0.14285714, 0.13333333,\n",
       "        0.125     , 0.11764706, 0.11111111, 0.10526316, 0.1       ]),\n",
       " 'ndcg': array([0.        , 0.48336418, 0.48336418, 0.48336418, 0.48336418,\n",
       "        0.48336418, 0.48336418, 0.48336418, 0.59495612, 0.59495612,\n",
       "        0.59495612, 0.59495612, 0.59495612, 0.59495612, 0.59495612,\n",
       "        0.59495612, 0.59495612, 0.59495612, 0.59495612, 0.59495612])}"
      ]
     },
     "execution_count": 168,
     "metadata": {},
     "output_type": "execute_result"
    }
   ],
   "source": [
    "evl.eval_model_on_user(cbr, 200)"
   ]
  },
  {
   "cell_type": "markdown",
   "metadata": {
    "deletable": false,
    "editable": false,
    "nbgrader": {
     "checksum": "dba2bf6d7f25a2c854b1ac42ec6a48fd",
     "grade": false,
     "grade_id": "cell-7716724e3b1a31fb",
     "locked": true,
     "schema_version": 1,
     "solution": false
    }
   },
   "source": [
    "**EXPECTED OUTPUT:**\n",
    "```\n",
    "{'ap': 0.18253968253968253,\n",
    " 'hits': 2,\n",
    " 'ndcg': array([0.        , 0.        , 0.        , 0.        , 0.        ,\n",
    "        0.        , 0.12356679, 0.12356679, 0.35419012, 0.35419012,\n",
    "        0.35419012, 0.35419012, 0.35419012, 0.35419012, 0.35419012,\n",
    "        0.35419012, 0.35419012, 0.35419012, 0.35419012, 0.35419012]),\n",
    " 'prec': array([0.        , 0.        , 0.        , 0.        , 0.        ,\n",
    "        0.        , 0.14285714, 0.125     , 0.22222222, 0.2       ,\n",
    "        0.18181818, 0.16666667, 0.15384615, 0.14285714, 0.13333333,\n",
    "        0.125     , 0.11764706, 0.11111111, 0.10526316, 0.1       ]),\n",
    " 'rec': array([0. , 0. , 0. , 0. , 0. , 0. , 0.5, 0.5, 1. , 1. , 1. , 1. , 1. ,\n",
    "        1. , 1. , 1. , 1. , 1. , 1. , 1. ])}\n",
    "```"
   ]
  },
  {
   "cell_type": "markdown",
   "metadata": {
    "deletable": false,
    "editable": false,
    "nbgrader": {
     "checksum": "97648a8c00aa991bffee16bdf1272dd2",
     "grade": false,
     "grade_id": "cell-606764c07c2d13ef",
     "locked": true,
     "schema_version": 1,
     "solution": false
    }
   },
   "source": [
    "Evaluate UU-CF on all users:"
   ]
  },
  {
   "cell_type": "code",
   "execution_count": 169,
   "metadata": {
    "deletable": false,
    "editable": false,
    "nbgrader": {
     "checksum": "04e47edb460f968fe7abec724f27ebc6",
     "grade": false,
     "grade_id": "cell-e6b0b20d09c7b3fe",
     "locked": true,
     "schema_version": 1,
     "solution": false
    }
   },
   "outputs": [
    {
     "name": "stdout",
     "output_type": "stream",
     "text": [
      "\r",
      "evaluated on 1 users\r",
      "evaluated on 2 users\r",
      "evaluated on 3 users\r",
      "evaluated on 4 users\r",
      "evaluated on 5 users\r",
      "evaluated on 6 users\r",
      "evaluated on 7 users"
     ]
    },
    {
     "name": "stderr",
     "output_type": "stream",
     "text": [
      "/home/christoph/.local/lib/python3.6/site-packages/scipy/sparse/base.py:597: RuntimeWarning: invalid value encountered in true_divide\n",
      "  return np.true_divide(self.todense(), other)\n",
      "/home/christoph/Dokumente/recsys_2019/assignment4/Recommender_CF_UU.py:166: RuntimeWarning: invalid value encountered in double_scalars\n",
      "  neighborhood_weighted_avg = sumRatings / sumAbsWeights\n"
     ]
    },
    {
     "name": "stdout",
     "output_type": "stream",
     "text": [
      "evaluated on 665 users\n",
      "\n",
      "CPU times: user 17.5 s, sys: 115 ms, total: 17.6 s\n",
      "Wall time: 17.4 s\n"
     ]
    },
    {
     "data": {
      "text/plain": [
       "{'hits': 1.9125874125874125,\n",
       " 'ap': 0.220966208386088,\n",
       " 'rec': array([0.02609058, 0.08760059, 0.14719794, 0.21321595, 0.27554806,\n",
       "        0.33945915, 0.39639388, 0.48006299, 0.53507742, 0.59723402,\n",
       "        0.64529915, 0.68993784, 0.74107004, 0.78454809, 0.83521895,\n",
       "        0.87917707, 0.90714494, 0.9330149 , 0.95763403, 1.        ]),\n",
       " 'prec': array([0.0541958 , 0.08653846, 0.0955711 , 0.10402098, 0.10874126,\n",
       "        0.10984848, 0.10989011, 0.11363636, 0.11383061, 0.11363636,\n",
       "        0.11252384, 0.11072261, 0.11013986, 0.10914086, 0.10862471,\n",
       "        0.10675262, 0.1040724 , 0.10110723, 0.09817814, 0.09562937]),\n",
       " 'ndcg': array([0.04760783, 0.08473862, 0.11742275, 0.14841456, 0.17578783,\n",
       "        0.20137427, 0.22286995, 0.25240609, 0.27133172, 0.29028653,\n",
       "        0.30576797, 0.31980926, 0.33346328, 0.3458532 , 0.358643  ,\n",
       "        0.36917462, 0.37578013, 0.38224032, 0.38773944, 0.39719097])}"
      ]
     },
     "metadata": {},
     "output_type": "display_data"
    }
   ],
   "source": [
    "%time metrics = evl.eval_model(uucf)\n",
    "display(metrics)"
   ]
  },
  {
   "cell_type": "markdown",
   "metadata": {
    "deletable": false,
    "editable": false,
    "nbgrader": {
     "checksum": "d883a2e8aa365b7b98edf4e0d95b8b11",
     "grade": false,
     "grade_id": "cell-601d6870b0694494",
     "locked": true,
     "schema_version": 1,
     "solution": false
    }
   },
   "source": [
    "**EXPECTED OUTPUT:**\n",
    "```\n",
    "evaluated on 665 users\n",
    "\n",
    "CPU times: user 5min 47s, sys: 4.91 s, total: 5min 52s\n",
    "Wall time: 5min 53s\n",
    "{'ap': 0.2209999986589639,\n",
    " 'hits': 1.9125874125874125,\n",
    " 'ndcg': array([0.04760783, 0.08473862, 0.11742275, 0.1491675 , 0.17654076,\n",
    "        0.20150446, 0.22416565, 0.25204725, 0.2704466 , 0.29063027,\n",
    "        0.3059012 , 0.31994249, 0.33267816, 0.34596304, 0.35586248,\n",
    "        0.36751176, 0.37621354, 0.38216103, 0.38775957, 0.3972111 ]),\n",
    " 'prec': array([0.0541958 , 0.08653846, 0.0955711 , 0.10445804, 0.10909091,\n",
    "        0.10984848, 0.11038961, 0.11341783, 0.11344211, 0.11346154,\n",
    "        0.11252384, 0.11072261, 0.1098709 , 0.10914086, 0.10780886,\n",
    "        0.10631556, 0.10417524, 0.1010101 , 0.09817814, 0.09562937]),\n",
    " 'rec': array([0.02609058, 0.08760059, 0.14719794, 0.2149642 , 0.27729631,\n",
    "        0.33945915, 0.39989039, 0.47831474, 0.53158092, 0.59723402,\n",
    "        0.64529915, 0.68993784, 0.73757354, 0.78454809, 0.82385531,\n",
    "        0.87218407, 0.90889319, 0.93214078, 0.95763403, 1.        ])}\n",
    "```"
   ]
  },
  {
   "cell_type": "markdown",
   "metadata": {
    "deletable": false,
    "editable": false,
    "nbgrader": {
     "checksum": "8216ea7b7f3c4a9e18e630d57ffc6db6",
     "grade": false,
     "grade_id": "cell-cadab41b9a8671ee",
     "locked": true,
     "schema_version": 1,
     "solution": false
    }
   },
   "source": [
    "Evaluate MF on all users:"
   ]
  },
  {
   "cell_type": "code",
   "execution_count": 170,
   "metadata": {
    "deletable": false,
    "editable": false,
    "nbgrader": {
     "checksum": "a4a4bd6ed7a25fa676ec2622c9a634b5",
     "grade": false,
     "grade_id": "cell-402b9013346624ac",
     "locked": true,
     "schema_version": 1,
     "solution": false
    }
   },
   "outputs": [
    {
     "name": "stdout",
     "output_type": "stream",
     "text": [
      "evaluated on 665 users\n",
      "\n",
      "CPU times: user 2.74 s, sys: 78.3 ms, total: 2.82 s\n",
      "Wall time: 2.7 s\n"
     ]
    },
    {
     "data": {
      "text/plain": [
       "{'hits': 1.9125874125874125,\n",
       " 'ap': 0.45428173065156513,\n",
       " 'rec': array([0.26044025, 0.39807415, 0.4548285 , 0.50302475, 0.53587315,\n",
       "        0.55069999, 0.5699599 , 0.5879107 , 0.60330364, 0.62234571,\n",
       "        0.64690448, 0.660724  , 0.67692446, 0.70301365, 0.72929987,\n",
       "        0.75030039, 0.77767094, 0.8234564 , 0.89616148, 1.        ]),\n",
       " 'prec': array([0.40734266, 0.3243007 , 0.25582751, 0.21678322, 0.18671329,\n",
       "        0.16171329, 0.14310689, 0.12980769, 0.11926962, 0.11136364,\n",
       "        0.10600763, 0.10052448, 0.09588488, 0.09303197, 0.09090909,\n",
       "        0.08817745, 0.08669272, 0.08760684, 0.09054104, 0.09562937]),\n",
       " 'ndcg': array([0.36942048, 0.42361113, 0.44563815, 0.46717659, 0.4793003 ,\n",
       "        0.48431437, 0.4911899 , 0.49708216, 0.50225386, 0.50857961,\n",
       "        0.51537594, 0.5195262 , 0.52435541, 0.53151516, 0.53846958,\n",
       "        0.54346454, 0.55071635, 0.56230393, 0.57917726, 0.60118627])}"
      ]
     },
     "metadata": {},
     "output_type": "display_data"
    }
   ],
   "source": [
    "%time metrics = evl.eval_model(mfr)\n",
    "display(metrics)"
   ]
  },
  {
   "cell_type": "markdown",
   "metadata": {
    "deletable": false,
    "editable": false,
    "nbgrader": {
     "checksum": "e7398dbe03153211eeeff463d210c510",
     "grade": false,
     "grade_id": "cell-a3d7f732a54a00e1",
     "locked": true,
     "schema_version": 1,
     "solution": false
    }
   },
   "source": [
    "**EXPECTED OUTPUT:**\n",
    "```\n",
    "evaluated on 665 users\n",
    "\n",
    "CPU times: user 2.83 s, sys: 365 ms, total: 3.2 s\n",
    "Wall time: 2.93 s\n",
    "{'ap': 0.45428173065156513,\n",
    " 'hits': 1.9125874125874125,\n",
    " 'ndcg': array([0.36942048, 0.42361113, 0.44563815, 0.46717659, 0.4793003 ,\n",
    "        0.48431437, 0.4911899 , 0.49708216, 0.50225386, 0.50857961,\n",
    "        0.51537594, 0.5195262 , 0.52435541, 0.53151516, 0.53846958,\n",
    "        0.54346454, 0.55071635, 0.56230393, 0.57917726, 0.60118627]),\n",
    " 'prec': array([0.40734266, 0.3243007 , 0.25582751, 0.21678322, 0.18671329,\n",
    "        0.16171329, 0.14310689, 0.12980769, 0.11926962, 0.11136364,\n",
    "        0.10600763, 0.10052448, 0.09588488, 0.09303197, 0.09090909,\n",
    "        0.08817745, 0.08669272, 0.08760684, 0.09054104, 0.09562937]),\n",
    " 'rec': array([0.26044025, 0.39807415, 0.4548285 , 0.50302475, 0.53587315,\n",
    "        0.55069999, 0.5699599 , 0.5879107 , 0.60330364, 0.62234571,\n",
    "        0.64690448, 0.660724  , 0.67692446, 0.70301365, 0.72929987,\n",
    "        0.75030039, 0.77767094, 0.8234564 , 0.89616148, 1.        ])}\n",
    "```"
   ]
  },
  {
   "cell_type": "markdown",
   "metadata": {
    "deletable": false,
    "editable": false,
    "nbgrader": {
     "checksum": "beb33984c533da92aa5086035a13f547",
     "grade": false,
     "grade_id": "cell-a905e4e870ada06a",
     "locked": true,
     "schema_version": 1,
     "solution": false
    }
   },
   "source": [
    "Evaluate CB on all users:"
   ]
  },
  {
   "cell_type": "code",
   "execution_count": null,
   "metadata": {
    "deletable": false,
    "editable": false,
    "nbgrader": {
     "checksum": "c6502887df3f8436bd3b3a6e27525398",
     "grade": false,
     "grade_id": "cell-b7ca5c872d5afdec",
     "locked": true,
     "schema_version": 1,
     "solution": false
    }
   },
   "outputs": [],
   "source": [
    "%time metrics = evl.eval_model(cbr)\n",
    "display(metrics)"
   ]
  },
  {
   "cell_type": "markdown",
   "metadata": {
    "deletable": false,
    "editable": false,
    "nbgrader": {
     "checksum": "386b1c2bb79c85e6d31f27d198d2ca5c",
     "grade": false,
     "grade_id": "cell-6d55db3a671b16d4",
     "locked": true,
     "schema_version": 1,
     "solution": false
    }
   },
   "source": [
    "**EXPECTED OUTPUT:**\n",
    "```\n",
    "evaluated on 665 users\n",
    "\n",
    "CPU times: user 1.66 s, sys: 193 ms, total: 1.85 s\n",
    "Wall time: 1.66 s\n",
    "{'ap': 0.2574150703090204,\n",
    " 'hits': 1.9125874125874125,\n",
    " 'ndcg': array([0.1284034 , 0.14968061, 0.17719387, 0.20444699, 0.23179806,\n",
    "        0.25068139, 0.26956727, 0.27856606, 0.29245607, 0.30326465,\n",
    "        0.31470433, 0.32510047, 0.34102282, 0.35278245, 0.36588088,\n",
    "        0.37989044, 0.39041599, 0.40218661, 0.41334282, 0.42952812]),\n",
    " 'prec': array([0.15734266, 0.13636364, 0.12762238, 0.12325175, 0.12377622,\n",
    "        0.11917249, 0.11638362, 0.10926573, 0.10528361, 0.10227273,\n",
    "        0.09980928, 0.09717366, 0.09763314, 0.09615385, 0.095338  ,\n",
    "        0.09538899, 0.09419992, 0.09411422, 0.09422157, 0.09562937]),\n",
    " 'rec': array([0.07914655, 0.14004676, 0.19638417, 0.25784216, 0.32147644,\n",
    "        0.37055098, 0.42190657, 0.44638209, 0.48709762, 0.52148893,\n",
    "        0.56264361, 0.60004232, 0.65638875, 0.70191822, 0.74882548,\n",
    "        0.80119811, 0.8411415 , 0.88661061, 0.93162879, 1.        ])}\n",
    "```"
   ]
  },
  {
   "cell_type": "code",
   "execution_count": null,
   "metadata": {},
   "outputs": [],
   "source": [
    "# feel free to use this field for additional tests"
   ]
  },
  {
   "cell_type": "code",
   "execution_count": null,
   "metadata": {},
   "outputs": [],
   "source": [
    "# feel free to use this field for additional tests"
   ]
  },
  {
   "cell_type": "code",
   "execution_count": null,
   "metadata": {},
   "outputs": [],
   "source": [
    "# feel free to use this field for additional tests"
   ]
  },
  {
   "cell_type": "code",
   "execution_count": null,
   "metadata": {},
   "outputs": [],
   "source": [
    "# feel free to use this field for additional tests"
   ]
  },
  {
   "cell_type": "code",
   "execution_count": null,
   "metadata": {},
   "outputs": [],
   "source": [
    "# feel free to use this field for additional tests"
   ]
  },
  {
   "cell_type": "code",
   "execution_count": null,
   "metadata": {
    "deletable": false,
    "editable": false,
    "nbgrader": {
     "checksum": "53f0baa550cd70c728e026e47b61f2ff",
     "grade": true,
     "grade_id": "get_ground_truth_default_solution-test",
     "locked": true,
     "points": 2,
     "schema_version": 1,
     "solution": false
    }
   },
   "outputs": [],
   "source": [
    "#Tests"
   ]
  },
  {
   "cell_type": "code",
   "execution_count": null,
   "metadata": {
    "deletable": false,
    "editable": false,
    "nbgrader": {
     "checksum": "4274f7b3c84b13712fecc16d983f6ecd",
     "grade": true,
     "grade_id": "get_ranking_metrics-test",
     "locked": true,
     "points": 3,
     "schema_version": 1,
     "solution": false
    }
   },
   "outputs": [],
   "source": [
    "#Tests"
   ]
  }
 ],
 "metadata": {
  "kernelspec": {
   "display_name": "Python 3",
   "language": "python",
   "name": "python3"
  },
  "language_info": {
   "codemirror_mode": {
    "name": "ipython",
    "version": 3
   },
   "file_extension": ".py",
   "mimetype": "text/x-python",
   "name": "python",
   "nbconvert_exporter": "python",
   "pygments_lexer": "ipython3",
   "version": "3.6.7"
  }
 },
 "nbformat": 4,
 "nbformat_minor": 2
}
