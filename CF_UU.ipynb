{
 "cells": [
  {
   "cell_type": "code",
   "execution_count": 1,
   "metadata": {},
   "outputs": [],
   "source": [
    "import pandas as pd\n",
    "import weights_matrix as wm \n",
    "import uucf as uucf"
   ]
  },
  {
   "cell_type": "code",
   "execution_count": 3,
   "metadata": {},
   "outputs": [
    {
     "name": "stderr",
     "output_type": "stream",
     "text": [
      "C:\\Users\\User\\Documents\\GitHub\\recsys2019\\weights_matrix.py:41: SettingWithCopyWarning: \n",
      "A value is trying to be set on a copy of a slice from a DataFrame.\n",
      "Try using .loc[row_indexer,col_indexer] = value instead\n",
      "\n",
      "See the caveats in the documentation: http://pandas.pydata.org/pandas-docs/stable/indexing.html#indexing-view-versus-copy\n",
      "  one_hot_action_type['clickout item'] * 2.0\n"
     ]
    }
   ],
   "source": [
    "ratings_matrix = pd.read_csv(\"data/preprocess/train_subsample.csv\")\n",
    "\n",
    "ratings_matrix = wm.prepare_dataset(ratings_matrix)\n",
    "\n",
    "(R, (user_id_labels, user_id_levels), (session_id_labels, session_id_levels), (reference_labels, reference_levels)) = wm.sparse_matrix(ratings_matrix)"
   ]
  },
  {
   "cell_type": "code",
   "execution_count": 5,
   "metadata": {},
   "outputs": [
    {
     "data": {
      "text/html": [
       "<div>\n",
       "<style scoped>\n",
       "    .dataframe tbody tr th:only-of-type {\n",
       "        vertical-align: middle;\n",
       "    }\n",
       "\n",
       "    .dataframe tbody tr th {\n",
       "        vertical-align: top;\n",
       "    }\n",
       "\n",
       "    .dataframe thead th {\n",
       "        text-align: right;\n",
       "    }\n",
       "</style>\n",
       "<table border=\"1\" class=\"dataframe\">\n",
       "  <thead>\n",
       "    <tr style=\"text-align: right;\">\n",
       "      <th></th>\n",
       "      <th>user_id</th>\n",
       "      <th>session_id</th>\n",
       "      <th>reference</th>\n",
       "      <th>weight</th>\n",
       "    </tr>\n",
       "  </thead>\n",
       "  <tbody>\n",
       "    <tr>\n",
       "      <th>0</th>\n",
       "      <td>009CW4ANLHRW</td>\n",
       "      <td>2344ee05e8253</td>\n",
       "      <td>104499</td>\n",
       "      <td>2.0</td>\n",
       "    </tr>\n",
       "    <tr>\n",
       "      <th>1</th>\n",
       "      <td>009CW4ANLHRW</td>\n",
       "      <td>2344ee05e8253</td>\n",
       "      <td>1052528</td>\n",
       "      <td>2.0</td>\n",
       "    </tr>\n",
       "    <tr>\n",
       "      <th>2</th>\n",
       "      <td>00D7BLIL11VE</td>\n",
       "      <td>00b2d3148c75f</td>\n",
       "      <td>1015401</td>\n",
       "      <td>1.0</td>\n",
       "    </tr>\n",
       "    <tr>\n",
       "      <th>3</th>\n",
       "      <td>00D7BLIL11VE</td>\n",
       "      <td>00b2d3148c75f</td>\n",
       "      <td>103530</td>\n",
       "      <td>1.0</td>\n",
       "    </tr>\n",
       "    <tr>\n",
       "      <th>4</th>\n",
       "      <td>00D7BLIL11VE</td>\n",
       "      <td>00b2d3148c75f</td>\n",
       "      <td>1107466</td>\n",
       "      <td>1.0</td>\n",
       "    </tr>\n",
       "  </tbody>\n",
       "</table>\n",
       "</div>"
      ],
      "text/plain": [
       "        user_id     session_id reference  weight\n",
       "0  009CW4ANLHRW  2344ee05e8253    104499     2.0\n",
       "1  009CW4ANLHRW  2344ee05e8253   1052528     2.0\n",
       "2  00D7BLIL11VE  00b2d3148c75f   1015401     1.0\n",
       "3  00D7BLIL11VE  00b2d3148c75f    103530     1.0\n",
       "4  00D7BLIL11VE  00b2d3148c75f   1107466     1.0"
      ]
     },
     "execution_count": 5,
     "metadata": {},
     "output_type": "execute_result"
    }
   ],
   "source": [
    "ratings_matrix.head()"
   ]
  },
  {
   "cell_type": "code",
   "execution_count": 6,
   "metadata": {},
   "outputs": [
    {
     "name": "stdout",
     "output_type": "stream",
     "text": [
      "There dataset has 3471 sessions, 8049 items and 9363 ratings.\n"
     ]
    }
   ],
   "source": [
    "m = R.shape[0]\n",
    "n = R.shape[1]\n",
    "numRatings = R.count_nonzero()\n",
    "\n",
    "print(\"There dataset has\", m, \"sessions,\", n, \"items and\", numRatings, \"ratings.\")"
   ]
  },
  {
   "cell_type": "code",
   "execution_count": 7,
   "metadata": {},
   "outputs": [],
   "source": [
    "uu_cf = uucf.UUCFRecommender(ratings=ratings_matrix, R=R, session_id_labels=session_id_labels, session_id_levels=session_id_levels, reference_labels=reference_labels,\n",
    "                              reference_levels=reference_levels)"
   ]
  },
  {
   "cell_type": "code",
   "execution_count": 8,
   "metadata": {},
   "outputs": [],
   "source": [
    "uu_cf.create_Ratings_Matrix()"
   ]
  },
  {
   "cell_type": "code",
   "execution_count": 9,
   "metadata": {},
   "outputs": [
    {
     "data": {
      "text/plain": [
       "<bound method UUCFRecommender.compute_session_similarities of <uucf.UUCFRecommender object at 0x0000028D67DE4390>>"
      ]
     },
     "execution_count": 9,
     "metadata": {},
     "output_type": "execute_result"
    }
   ],
   "source": [
    "uu_cf.compute_session_avgs()\n",
    "uu_cf.compute_session_similarities"
   ]
  },
  {
   "cell_type": "code",
   "execution_count": 10,
   "metadata": {},
   "outputs": [
    {
     "name": "stderr",
     "output_type": "stream",
     "text": [
      "C:\\ProgramData\\Anaconda3\\lib\\site-packages\\scipy\\sparse\\base.py:597: RuntimeWarning: invalid value encountered in true_divide\n",
      "  return np.true_divide(self.todense(), other)\n",
      "C:\\Users\\User\\Documents\\GitHub\\recsys2019\\uucf.py:221: RuntimeWarning: invalid value encountered in double_scalars\n",
      "  neighborhood_weighted_avg = sumRatings / sumAbsWeights\n"
     ]
    },
    {
     "data": {
      "text/plain": [
       "['1000675',\n",
       " '10011328',\n",
       " '1001201',\n",
       " '150340',\n",
       " '1043238',\n",
       " '100137',\n",
       " '1001257',\n",
       " '100150',\n",
       " '1001561',\n",
       " '1001619',\n",
       " '1001621',\n",
       " '1001669',\n",
       " '1001683',\n",
       " '1001685',\n",
       " '100193',\n",
       " '100206',\n",
       " '100211',\n",
       " '100212',\n",
       " '1002149',\n",
       " '100216']"
      ]
     },
     "execution_count": 10,
     "metadata": {},
     "output_type": "execute_result"
    }
   ],
   "source": [
    "uu_cf.recommend(\"009fc4faa6aaa\")"
   ]
  },
  {
   "cell_type": "code",
   "execution_count": null,
   "metadata": {},
   "outputs": [],
   "source": []
  }
 ],
 "metadata": {
  "kernelspec": {
   "display_name": "Python 3",
   "language": "python",
   "name": "python3"
  },
  "language_info": {
   "codemirror_mode": {
    "name": "ipython",
    "version": 3
   },
   "file_extension": ".py",
   "mimetype": "text/x-python",
   "name": "python",
   "nbconvert_exporter": "python",
   "pygments_lexer": "ipython3",
   "version": "3.6.7"
  },
  "varInspector": {
   "cols": {
    "lenName": 16,
    "lenType": 16,
    "lenVar": 40
   },
   "kernels_config": {
    "python": {
     "delete_cmd_postfix": "",
     "delete_cmd_prefix": "del ",
     "library": "var_list.py",
     "varRefreshCmd": "print(var_dic_list())"
    },
    "r": {
     "delete_cmd_postfix": ") ",
     "delete_cmd_prefix": "rm(",
     "library": "var_list.r",
     "varRefreshCmd": "cat(var_dic_list()) "
    }
   },
   "types_to_exclude": [
    "module",
    "function",
    "builtin_function_or_method",
    "instance",
    "_Feature"
   ],
   "window_display": false
  }
 },
 "nbformat": 4,
 "nbformat_minor": 2
}
