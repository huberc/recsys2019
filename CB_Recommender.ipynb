{
 "cells": [
  {
   "cell_type": "code",
   "execution_count": 1,
   "metadata": {},
   "outputs": [],
   "source": [
    "import csv\n",
    "import pandas as pd\n",
    "import numpy as np\n",
    "import weights_matrix as wm "
   ]
  },
  {
   "cell_type": "code",
   "execution_count": 2,
   "metadata": {},
   "outputs": [],
   "source": [
    "data_directory = 'data/'"
   ]
  },
  {
   "cell_type": "code",
   "execution_count": 3,
   "metadata": {},
   "outputs": [],
   "source": [
    "df = pd.read_csv(data_directory + 'train_subsample.csv')\n",
    "metadata = pd.read_csv(data_directory + 'item_metadata.csv')"
   ]
  },
  {
   "cell_type": "code",
   "execution_count": 4,
   "metadata": {},
   "outputs": [
    {
     "data": {
      "text/html": [
       "<div>\n",
       "<style scoped>\n",
       "    .dataframe tbody tr th:only-of-type {\n",
       "        vertical-align: middle;\n",
       "    }\n",
       "\n",
       "    .dataframe tbody tr th {\n",
       "        vertical-align: top;\n",
       "    }\n",
       "\n",
       "    .dataframe thead th {\n",
       "        text-align: right;\n",
       "    }\n",
       "</style>\n",
       "<table border=\"1\" class=\"dataframe\">\n",
       "  <thead>\n",
       "    <tr style=\"text-align: right;\">\n",
       "      <th></th>\n",
       "      <th>item_id</th>\n",
       "      <th>properties</th>\n",
       "    </tr>\n",
       "  </thead>\n",
       "  <tbody>\n",
       "    <tr>\n",
       "      <th>0</th>\n",
       "      <td>5101</td>\n",
       "      <td>Satellite TV|Golf Course|Airport Shuttle|Cosme...</td>\n",
       "    </tr>\n",
       "    <tr>\n",
       "      <th>1</th>\n",
       "      <td>5416</td>\n",
       "      <td>Satellite TV|Cosmetic Mirror|Safe (Hotel)|Tele...</td>\n",
       "    </tr>\n",
       "    <tr>\n",
       "      <th>2</th>\n",
       "      <td>5834</td>\n",
       "      <td>Satellite TV|Cosmetic Mirror|Safe (Hotel)|Tele...</td>\n",
       "    </tr>\n",
       "    <tr>\n",
       "      <th>3</th>\n",
       "      <td>5910</td>\n",
       "      <td>Satellite TV|Sailing|Cosmetic Mirror|Telephone...</td>\n",
       "    </tr>\n",
       "    <tr>\n",
       "      <th>4</th>\n",
       "      <td>6066</td>\n",
       "      <td>Satellite TV|Sailing|Diving|Cosmetic Mirror|Sa...</td>\n",
       "    </tr>\n",
       "  </tbody>\n",
       "</table>\n",
       "</div>"
      ],
      "text/plain": [
       "   item_id                                         properties\n",
       "0     5101  Satellite TV|Golf Course|Airport Shuttle|Cosme...\n",
       "1     5416  Satellite TV|Cosmetic Mirror|Safe (Hotel)|Tele...\n",
       "2     5834  Satellite TV|Cosmetic Mirror|Safe (Hotel)|Tele...\n",
       "3     5910  Satellite TV|Sailing|Cosmetic Mirror|Telephone...\n",
       "4     6066  Satellite TV|Sailing|Diving|Cosmetic Mirror|Sa..."
      ]
     },
     "execution_count": 4,
     "metadata": {},
     "output_type": "execute_result"
    }
   ],
   "source": [
    "metadata.head()"
   ]
  },
  {
   "cell_type": "code",
   "execution_count": 5,
   "metadata": {},
   "outputs": [
    {
     "data": {
      "text/html": [
       "<div>\n",
       "<style scoped>\n",
       "    .dataframe tbody tr th:only-of-type {\n",
       "        vertical-align: middle;\n",
       "    }\n",
       "\n",
       "    .dataframe tbody tr th {\n",
       "        vertical-align: top;\n",
       "    }\n",
       "\n",
       "    .dataframe thead th {\n",
       "        text-align: right;\n",
       "    }\n",
       "</style>\n",
       "<table border=\"1\" class=\"dataframe\">\n",
       "  <thead>\n",
       "    <tr style=\"text-align: right;\">\n",
       "      <th></th>\n",
       "      <th>item_id</th>\n",
       "      <th>properties</th>\n",
       "    </tr>\n",
       "  </thead>\n",
       "  <tbody>\n",
       "    <tr>\n",
       "      <th>0</th>\n",
       "      <td>5101</td>\n",
       "      <td>Satellite TV Golf Course Airport Shuttle Cosme...</td>\n",
       "    </tr>\n",
       "    <tr>\n",
       "      <th>1</th>\n",
       "      <td>5416</td>\n",
       "      <td>Satellite TV Cosmetic Mirror Safe (Hotel) Tele...</td>\n",
       "    </tr>\n",
       "    <tr>\n",
       "      <th>2</th>\n",
       "      <td>5834</td>\n",
       "      <td>Satellite TV Cosmetic Mirror Safe (Hotel) Tele...</td>\n",
       "    </tr>\n",
       "    <tr>\n",
       "      <th>3</th>\n",
       "      <td>5910</td>\n",
       "      <td>Satellite TV Sailing Cosmetic Mirror Telephone...</td>\n",
       "    </tr>\n",
       "    <tr>\n",
       "      <th>4</th>\n",
       "      <td>6066</td>\n",
       "      <td>Satellite TV Sailing Diving Cosmetic Mirror Sa...</td>\n",
       "    </tr>\n",
       "  </tbody>\n",
       "</table>\n",
       "</div>"
      ],
      "text/plain": [
       "   item_id                                         properties\n",
       "0     5101  Satellite TV Golf Course Airport Shuttle Cosme...\n",
       "1     5416  Satellite TV Cosmetic Mirror Safe (Hotel) Tele...\n",
       "2     5834  Satellite TV Cosmetic Mirror Safe (Hotel) Tele...\n",
       "3     5910  Satellite TV Sailing Cosmetic Mirror Telephone...\n",
       "4     6066  Satellite TV Sailing Diving Cosmetic Mirror Sa..."
      ]
     },
     "execution_count": 5,
     "metadata": {},
     "output_type": "execute_result"
    }
   ],
   "source": [
    "metadata['properties'] = metadata['properties'].apply(lambda x: x.replace(\"|\",\" \"))\n",
    "metadata.head()"
   ]
  },
  {
   "cell_type": "code",
   "execution_count": 6,
   "metadata": {},
   "outputs": [
    {
     "name": "stderr",
     "output_type": "stream",
     "text": [
      "C:\\Users\\Daniel Ly\\Documents\\recsys2019\\weights_matrix.py:41: SettingWithCopyWarning: \n",
      "A value is trying to be set on a copy of a slice from a DataFrame.\n",
      "Try using .loc[row_indexer,col_indexer] = value instead\n",
      "\n",
      "See the caveats in the documentation: http://pandas.pydata.org/pandas-docs/stable/indexing.html#indexing-view-versus-copy\n",
      "  one_hot_action_type['clickout item'] * 2.0\n"
     ]
    }
   ],
   "source": [
    "df_weight = wm.prepare_dataset(df)\n",
    "\n",
    "(R, (user_id_labels, user_id_levels), (session_id_labels, session_id_levels), (reference_labels, reference_levels)) = wm.sparse_matrix(df_weight)"
   ]
  },
  {
   "cell_type": "code",
   "execution_count": 7,
   "metadata": {},
   "outputs": [
    {
     "data": {
      "text/html": [
       "<div>\n",
       "<style scoped>\n",
       "    .dataframe tbody tr th:only-of-type {\n",
       "        vertical-align: middle;\n",
       "    }\n",
       "\n",
       "    .dataframe tbody tr th {\n",
       "        vertical-align: top;\n",
       "    }\n",
       "\n",
       "    .dataframe thead th {\n",
       "        text-align: right;\n",
       "    }\n",
       "</style>\n",
       "<table border=\"1\" class=\"dataframe\">\n",
       "  <thead>\n",
       "    <tr style=\"text-align: right;\">\n",
       "      <th></th>\n",
       "      <th>user_id</th>\n",
       "      <th>session_id</th>\n",
       "      <th>reference</th>\n",
       "      <th>weight</th>\n",
       "    </tr>\n",
       "  </thead>\n",
       "  <tbody>\n",
       "    <tr>\n",
       "      <th>0</th>\n",
       "      <td>009CW4ANLHRW</td>\n",
       "      <td>2344ee05e8253</td>\n",
       "      <td>104499</td>\n",
       "      <td>2.0</td>\n",
       "    </tr>\n",
       "    <tr>\n",
       "      <th>1</th>\n",
       "      <td>009CW4ANLHRW</td>\n",
       "      <td>2344ee05e8253</td>\n",
       "      <td>1052528</td>\n",
       "      <td>2.0</td>\n",
       "    </tr>\n",
       "    <tr>\n",
       "      <th>2</th>\n",
       "      <td>00D7BLIL11VE</td>\n",
       "      <td>00b2d3148c75f</td>\n",
       "      <td>1015401</td>\n",
       "      <td>1.0</td>\n",
       "    </tr>\n",
       "    <tr>\n",
       "      <th>3</th>\n",
       "      <td>00D7BLIL11VE</td>\n",
       "      <td>00b2d3148c75f</td>\n",
       "      <td>103530</td>\n",
       "      <td>1.0</td>\n",
       "    </tr>\n",
       "    <tr>\n",
       "      <th>4</th>\n",
       "      <td>00D7BLIL11VE</td>\n",
       "      <td>00b2d3148c75f</td>\n",
       "      <td>1107466</td>\n",
       "      <td>1.0</td>\n",
       "    </tr>\n",
       "  </tbody>\n",
       "</table>\n",
       "</div>"
      ],
      "text/plain": [
       "        user_id     session_id reference  weight\n",
       "0  009CW4ANLHRW  2344ee05e8253    104499     2.0\n",
       "1  009CW4ANLHRW  2344ee05e8253   1052528     2.0\n",
       "2  00D7BLIL11VE  00b2d3148c75f   1015401     1.0\n",
       "3  00D7BLIL11VE  00b2d3148c75f    103530     1.0\n",
       "4  00D7BLIL11VE  00b2d3148c75f   1107466     1.0"
      ]
     },
     "execution_count": 7,
     "metadata": {},
     "output_type": "execute_result"
    }
   ],
   "source": [
    "df_weight.head()"
   ]
  },
  {
   "cell_type": "code",
   "execution_count": 8,
   "metadata": {},
   "outputs": [
    {
     "data": {
      "text/plain": [
       "(9363, 4)"
      ]
     },
     "execution_count": 8,
     "metadata": {},
     "output_type": "execute_result"
    }
   ],
   "source": [
    "df_weight.shape"
   ]
  },
  {
   "cell_type": "code",
   "execution_count": 9,
   "metadata": {},
   "outputs": [],
   "source": [
    "from Recommender_CB import ContentBasedRecommender"
   ]
  },
  {
   "cell_type": "code",
   "execution_count": 10,
   "metadata": {},
   "outputs": [
    {
     "name": "stdout",
     "output_type": "stream",
     "text": [
      "[1285564  914579 1336922 1749067   44773   23865  151988  321826 3163166\n",
      " 4109918 4524428   62837   37743 1109068 1836241    5739   14817   41692\n",
      "  261342  916231  100634    9137]\n",
      "[1285564 1749067  914579   23865 1336922  151988 3163166  321826   44773\n",
      "   51237  916231 2129534  100634   83722  120939  917115  922459 1394496\n",
      " 1109068  130349  103454   62837   14945   24821    6795 2025321    5525]\n"
     ]
    }
   ],
   "source": [
    "cbr = ContentBasedRecommender()\n",
    "cbr.build_model(df_weight,metadata)\n",
    "\n",
    "print(cbr.recommend('009CW4ANLHRW'))\n",
    "print(cbr.recommend('00D7BLIL11VE'))"
   ]
  },
  {
   "cell_type": "code",
   "execution_count": null,
   "metadata": {},
   "outputs": [],
   "source": []
  }
 ],
 "metadata": {
  "kernelspec": {
   "display_name": "Python 3",
   "language": "python",
   "name": "python3"
  },
  "language_info": {
   "codemirror_mode": {
    "name": "ipython",
    "version": 3
   },
   "file_extension": ".py",
   "mimetype": "text/x-python",
   "name": "python",
   "nbconvert_exporter": "python",
   "pygments_lexer": "ipython3",
   "version": "3.7.1"
  }
 },
 "nbformat": 4,
 "nbformat_minor": 2
}
